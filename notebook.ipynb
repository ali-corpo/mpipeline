{
 "cells": [
  {
   "cell_type": "code",
   "execution_count": 2,
   "metadata": {},
   "outputs": [
    {
     "name": "stdout",
     "output_type": "stream",
     "text": [
      "Starting pipeline processing...\n",
      "Input sequence:  [0, 1, 2, 3, 4, 5, 6, 7, 8, 9, 10, 11, 12, 13, 14, 15, 16, 17, 18, 19, 20, 21, 22, 23, 24, 25, 26, 27, 28, 29, 30, 31, 32, 33, 34, 35, 36, 37, 38, 39, 40, 41, 42, 43, 44, 45, 46, 47, 48, 49, 50, 51, 52, 53, 54, 55, 56, 57, 58, 59, 60, 61, 62, 63, 64, 65, 66, 67, 68, 69, 70, 71, 72, 73, 74, 75, 76, 77, 78, 79, 80, 81, 82, 83, 84, 85, 86, 87, 88, 89, 90, 91, 92, 93, 94, 95, 96, 97, 98, 99]\n",
      "\n",
      "Processing...\n",
      "\n"
     ]
    },
    {
     "data": {
      "application/vnd.jupyter.widget-view+json": {
       "model_id": "cee2e1f771dc47ab8117565c5a611ede",
       "version_major": 2,
       "version_minor": 0
      },
      "text/plain": [
       "Total Progress:   0%|          | 0/100 [00:00<?, ?it/s]"
      ]
     },
     "metadata": {},
     "output_type": "display_data"
    },
    {
     "data": {
      "application/vnd.jupyter.widget-view+json": {
       "model_id": "3d46cc31910043229780f0e105e6abec",
       "version_major": 2,
       "version_minor": 0
      },
      "text/plain": [
       "Stage 1 (NumberGenerator):   0%|          | 0/100 [00:00<?, ?it/s]"
      ]
     },
     "metadata": {},
     "output_type": "display_data"
    },
    {
     "data": {
      "application/vnd.jupyter.widget-view+json": {
       "model_id": "0f04c5d050234233b54f1c70e9891696",
       "version_major": 2,
       "version_minor": 0
      },
      "text/plain": [
       "Stage 2 (SlowProcessor):   0%|          | 0/100 [00:00<?, ?it/s]"
      ]
     },
     "metadata": {},
     "output_type": "display_data"
    },
    {
     "name": "stdout",
     "output_type": "stream",
     "text": [
      "Got result: 0.0\n",
      "Got result: 3.0\n",
      "Got result: 6.0\n",
      "Got result: 9.0\n",
      "Got result: 12.0\n",
      "Got result: 15.0\n",
      "Got result: 18.0\n",
      "Got result: 21.0\n",
      "Got result: 24.0\n",
      "Got result: 27.0\n",
      "Got result: 30.0\n",
      "Got result: 33.0\n",
      "Got result: 36.0\n",
      "Got result: 39.0\n",
      "Got result: 42.0\n",
      "Got result: 45.0\n",
      "Got result: 48.0\n",
      "Got result: 51.0\n",
      "Got result: 54.0\n",
      "Got result: 57.0\n",
      "Got result: 60.0\n",
      "Got result: 63.0\n",
      "Got result: 66.0\n",
      "Got result: 69.0\n",
      "Got result: 72.0\n",
      "Got result: 75.0\n",
      "Got result: 78.0\n",
      "Got result: 81.0\n",
      "Got result: 84.0\n",
      "Got result: 87.0\n",
      "Got result: 90.0\n",
      "Got result: 93.0\n",
      "Got result: 96.0\n",
      "Got result: 99.0\n",
      "Got result: 102.0\n",
      "Got result: 105.0\n",
      "Got result: 108.0\n",
      "Got result: 111.0\n",
      "Got result: 114.0\n",
      "Got result: 117.0\n",
      "Got result: 120.0\n",
      "Got result: 123.0\n",
      "Got result: 126.0\n",
      "Got result: 129.0\n",
      "Got result: 132.0\n",
      "Got result: 135.0\n",
      "Got result: 138.0\n",
      "Got result: 141.0\n",
      "Got result: 144.0\n",
      "Got result: 147.0\n",
      "Got result: 150.0\n",
      "Got result: 153.0\n",
      "Got result: 156.0\n",
      "Got result: 159.0\n",
      "Got result: 162.0\n",
      "Got result: 165.0\n",
      "Got result: 168.0\n",
      "Got result: 171.0\n",
      "Got result: 174.0\n",
      "Got result: 177.0\n",
      "Got result: 180.0\n",
      "Got result: 183.0\n",
      "Got result: 186.0\n",
      "Got result: 189.0\n",
      "Got result: 192.0\n",
      "Got result: 195.0\n",
      "Got result: 198.0\n",
      "Got result: 201.0\n",
      "Got result: 204.0\n",
      "Got result: 207.0\n",
      "Got result: 210.0\n",
      "Got result: 213.0\n",
      "Got result: 216.0\n",
      "Got result: 219.0\n",
      "Got result: 222.0\n",
      "Got result: 225.0\n",
      "Got result: 228.0\n",
      "Got result: 231.0\n",
      "Got result: 234.0\n",
      "Got result: 237.0\n",
      "Got result: 240.0\n",
      "Got result: 243.0\n",
      "Got result: 246.0\n",
      "Got result: 249.0\n",
      "Got result: 252.0\n",
      "Got result: 255.0\n",
      "Got result: 258.0\n",
      "Got result: 261.0\n",
      "Got result: 264.0\n",
      "Got result: 267.0\n",
      "Got result: 270.0\n",
      "Got result: 273.0\n",
      "Got result: 276.0\n",
      "Got result: 279.0\n",
      "Got result: 282.0\n",
      "Got result: 285.0\n",
      "Got result: 288.0\n",
      "Got result: 291.0\n",
      "Got result: 294.0\n",
      "Got result: 297.0\n",
      "\n",
      "Final results in order: [0.0, 3.0, 6.0, 9.0, 12.0, 15.0, 18.0, 21.0, 24.0, 27.0, 30.0, 33.0, 36.0, 39.0, 42.0, 45.0, 48.0, 51.0, 54.0, 57.0, 60.0, 63.0, 66.0, 69.0, 72.0, 75.0, 78.0, 81.0, 84.0, 87.0, 90.0, 93.0, 96.0, 99.0, 102.0, 105.0, 108.0, 111.0, 114.0, 117.0, 120.0, 123.0, 126.0, 129.0, 132.0, 135.0, 138.0, 141.0, 144.0, 147.0, 150.0, 153.0, 156.0, 159.0, 162.0, 165.0, 168.0, 171.0, 174.0, 177.0, 180.0, 183.0, 186.0, 189.0, 192.0, 195.0, 198.0, 201.0, 204.0, 207.0, 210.0, 213.0, 216.0, 219.0, 222.0, 225.0, 228.0, 231.0, 234.0, 237.0, 240.0, 243.0, 246.0, 249.0, 252.0, 255.0, 258.0, 261.0, 264.0, 267.0, 270.0, 273.0, 276.0, 279.0, 282.0, 285.0, 288.0, 291.0, 294.0, 297.0]\n",
      "Pipeline processing completed!\n"
     ]
    }
   ],
   "source": [
    "\n",
    "from mpipeline import Pipeline,  Stage\n",
    "from mpipeline.examples import NumberGenerator, SlowProcessor, ErrorProneWorker\n",
    "\n",
    "print(\"Starting pipeline processing...\")\n",
    "# Create and run pipeline with constructor arguments\n",
    "pipeline = Pipeline(Stage(NumberGenerator, worker_count=10, use_threads=True))\\\n",
    "    .then(Stage(SlowProcessor,worker_count=2, queue_size=1))\\\n",
    "    # .then(Stage(AsyncNumberAdder, worker_count=2))\n",
    "\n",
    "# Run pipeline with input range\n",
    "inputs = list(range(100))\n",
    "print(\"Input sequence: \", inputs)\n",
    "print(\"\\nProcessing...\\n\")\n",
    "\n",
    "results = []\n",
    "for result in pipeline.run(inputs, ordered_result=True, show_progress=True, show_stage_progress=True):\n",
    "    results.append(result)\n",
    "    print(f\"Got result: {result}\")\n",
    "\n",
    "print(\"\\nFinal results in order:\", results)\n",
    "print(\"Pipeline processing completed!\")\n"
   ]
  },
  {
   "cell_type": "code",
   "execution_count": 1,
   "metadata": {},
   "outputs": [
    {
     "ename": "ModuleNotFoundError",
     "evalue": "No module named 'parallele_pipeline'",
     "output_type": "error",
     "traceback": [
      "\u001b[0;31m---------------------------------------------------------------------------\u001b[0m",
      "\u001b[0;31mModuleNotFoundError\u001b[0m                       Traceback (most recent call last)",
      "Cell \u001b[0;32mIn[1], line 1\u001b[0m\n\u001b[0;32m----> 1\u001b[0m \u001b[38;5;28;01mfrom\u001b[39;00m \u001b[38;5;21;01mparallele_pipeline\u001b[39;00m \u001b[38;5;28;01mimport\u001b[39;00m Pipeline,  StageConfig, Worker, NumberSquarer, NumberMultiplier, AsyncNumberAdder\n\u001b[1;32m      3\u001b[0m \u001b[38;5;28mprint\u001b[39m(\u001b[38;5;124m\"\u001b[39m\u001b[38;5;124mStarting pipeline processing...\u001b[39m\u001b[38;5;124m\"\u001b[39m)\n\u001b[1;32m      4\u001b[0m \u001b[38;5;66;03m# Create and run pipeline with constructor arguments\u001b[39;00m\n",
      "\u001b[0;31mModuleNotFoundError\u001b[0m: No module named 'parallele_pipeline'"
     ]
    }
   ],
   "source": [
    "\n",
    "from mpipeline import Pipeline,  StageConfig, Worker, NumberSquarer, NumberMultiplier, AsyncNumberAdder\n",
    "\n",
    "print(\"Starting pipeline processing...\")\n",
    "# Create and run pipeline with constructor arguments\n",
    "pipeline = Pipeline(NumberSquarer, StageConfig(worker_count=10, use_threads=True))\\\n",
    "    .then(NumberMultiplier, StageConfig(worker_count=2, queue_size=1), worker_kwargs={'multiplier': 3})\\\n",
    "    .then(AsyncNumberAdder, StageConfig(worker_count=2))\n",
    "\n",
    "# Run pipeline with input range\n",
    "inputs = list(range(100))\n",
    "print(\"Input sequence: \", inputs)\n",
    "print(\"\\nProcessing...\\n\")\n",
    "\n",
    "results = []\n",
    "for result in pipeline.run(inputs, ordered_result=True, show_progress=True, show_stage_progress=True):\n",
    "    results.append(result)\n",
    "    print(f\"Got result: {result}\")\n",
    "\n",
    "print(\"\\nFinal results in order:\", results)\n",
    "print(\"Pipeline processing completed!\")\n"
   ]
  },
  {
   "cell_type": "code",
   "execution_count": null,
   "metadata": {},
   "outputs": [
    {
     "name": "stdout",
     "output_type": "stream",
     "text": [
      "Starting pipeline processing...\n",
      "Input sequence:  [0, 1, 2, 3, 4, 5, 6, 7, 8, 9, 10, 11, 12, 13, 14, 15, 16, 17, 18, 19, 20, 21, 22, 23, 24, 25, 26, 27, 28, 29, 30, 31, 32, 33, 34, 35, 36, 37, 38, 39, 40, 41, 42, 43, 44, 45, 46, 47, 48, 49, 50, 51, 52, 53, 54, 55, 56, 57, 58, 59, 60, 61, 62, 63, 64, 65, 66, 67, 68, 69, 70, 71, 72, 73, 74, 75, 76, 77, 78, 79, 80, 81, 82, 83, 84, 85, 86, 87, 88, 89, 90, 91, 92, 93, 94, 95, 96, 97, 98, 99]\n",
      "\n",
      "Processing...\n",
      "\n",
      "Initializing worker NumberSquarer in process MainProcess...\n",
      "Initializing worker NumberSquarer in process MainProcess...\n",
      "Initializing worker NumberSquarer in process MainProcess...\n",
      "Initializing worker NumberSquarer in process MainProcess...\n",
      "Initializing worker NumberSquarer in process MainProcess...\n",
      "Initializing worker NumberSquarer in process MainProcess...\n",
      "Initializing worker NumberSquarer in process MainProcess...\n",
      "Initializing worker NumberSquarer in process MainProcess...\n",
      "Initializing worker NumberSquarer in process MainProcess...\n",
      "Initializing worker NumberSquarer in process MainProcess...\n"
     ]
    },
    {
     "data": {
      "application/vnd.jupyter.widget-view+json": {
       "model_id": "d23217a9ccdd437fbc770627ea38f4c7",
       "version_major": 2,
       "version_minor": 0
      },
      "text/plain": [
       "Total Progress:   0%|          | 0/100 [00:00<?, ?it/s]"
      ]
     },
     "metadata": {},
     "output_type": "display_data"
    },
    {
     "data": {
      "application/vnd.jupyter.widget-view+json": {
       "model_id": "e9e1e5582f96416f891239fea63dfd17",
       "version_major": 2,
       "version_minor": 0
      },
      "text/plain": [
       "Stage 1 (NumberSquarer):   0%|          | 0/100 [00:00<?, ?it/s]"
      ]
     },
     "metadata": {},
     "output_type": "display_data"
    },
    {
     "data": {
      "application/vnd.jupyter.widget-view+json": {
       "model_id": "fbcd2eb6d5804b73b931a96ef56cbf0e",
       "version_major": 2,
       "version_minor": 0
      },
      "text/plain": [
       "Stage 2 (NumberMultiplier):   0%|          | 0/100 [00:00<?, ?it/s]"
      ]
     },
     "metadata": {},
     "output_type": "display_data"
    },
    {
     "data": {
      "application/vnd.jupyter.widget-view+json": {
       "model_id": "e0d938ac5a204e62853fcc1e190b2640",
       "version_major": 2,
       "version_minor": 0
      },
      "text/plain": [
       "Stage 3 (AsyncNumberAdder):   0%|          | 0/100 [00:00<?, ?it/s]"
      ]
     },
     "metadata": {},
     "output_type": "display_data"
    },
    {
     "name": "stdout",
     "output_type": "stream",
     "text": [
      "Initializing worker NumberMultiplier in process SpawnPoolWorker-1...\n",
      "Initializing worker AsyncNumberAdder in process SpawnPoolWorker-3...\n",
      "Initializing worker AsyncNumberAdder in process SpawnPoolWorker-4...\n",
      "Initializing worker NumberMultiplier in process SpawnPoolWorker-2...\n",
      "\n",
      "Pipeline interrupted by user. Cleaning up...\n"
     ]
    },
    {
     "ename": "KeyboardInterrupt",
     "evalue": "",
     "output_type": "error",
     "traceback": [
      "\u001b[0;31m---------------------------------------------------------------------------\u001b[0m\n",
      "\u001b[0;31mIndexError\u001b[0m                                Traceback (most recent call last)\n",
      "File \u001b[0;32m/usr/lib/python3.12/multiprocessing/pool.py:856\u001b[0m, in \u001b[0;36mIMapIterator.next\u001b[0;34m(self, timeout)\u001b[0m\n",
      "\u001b[1;32m    855\u001b[0m \u001b[38;5;28;01mtry\u001b[39;00m:\n",
      "\u001b[0;32m--> 856\u001b[0m     item \u001b[38;5;241m=\u001b[39m \u001b[38;5;28;43mself\u001b[39;49m\u001b[38;5;241;43m.\u001b[39;49m\u001b[43m_items\u001b[49m\u001b[38;5;241;43m.\u001b[39;49m\u001b[43mpopleft\u001b[49m\u001b[43m(\u001b[49m\u001b[43m)\u001b[49m\n",
      "\u001b[1;32m    857\u001b[0m \u001b[38;5;28;01mexcept\u001b[39;00m \u001b[38;5;167;01mIndexError\u001b[39;00m:\n",
      "\n",
      "\u001b[0;31mIndexError\u001b[0m: pop from an empty deque\n",
      "\n",
      "During handling of the above exception, another exception occurred:\n",
      "\n",
      "\u001b[0;31mKeyboardInterrupt\u001b[0m                         Traceback (most recent call last)\n",
      "Cell \u001b[0;32mIn[1], line 15\u001b[0m\n",
      "\u001b[1;32m     12\u001b[0m \u001b[38;5;28mprint\u001b[39m(\u001b[38;5;124m\"\u001b[39m\u001b[38;5;130;01m\\n\u001b[39;00m\u001b[38;5;124mProcessing...\u001b[39m\u001b[38;5;130;01m\\n\u001b[39;00m\u001b[38;5;124m\"\u001b[39m)\n",
      "\u001b[1;32m     14\u001b[0m results \u001b[38;5;241m=\u001b[39m []\n",
      "\u001b[0;32m---> 15\u001b[0m \u001b[38;5;28;43;01mfor\u001b[39;49;00m\u001b[43m \u001b[49m\u001b[43mresult\u001b[49m\u001b[43m \u001b[49m\u001b[38;5;129;43;01min\u001b[39;49;00m\u001b[43m \u001b[49m\u001b[43mpipeline\u001b[49m\u001b[38;5;241;43m.\u001b[39;49m\u001b[43mrun\u001b[49m\u001b[43m(\u001b[49m\u001b[43minputs\u001b[49m\u001b[43m,\u001b[49m\u001b[43m \u001b[49m\u001b[43mordered_result\u001b[49m\u001b[38;5;241;43m=\u001b[39;49m\u001b[38;5;28;43;01mTrue\u001b[39;49;00m\u001b[43m,\u001b[49m\u001b[43m \u001b[49m\u001b[43mshow_progress\u001b[49m\u001b[38;5;241;43m=\u001b[39;49m\u001b[38;5;28;43;01mTrue\u001b[39;49;00m\u001b[43m,\u001b[49m\u001b[43m \u001b[49m\u001b[43mshow_stage_progress\u001b[49m\u001b[38;5;241;43m=\u001b[39;49m\u001b[38;5;28;43;01mTrue\u001b[39;49;00m\u001b[43m)\u001b[49m\u001b[43m:\u001b[49m\n",
      "\u001b[1;32m     16\u001b[0m \u001b[43m    \u001b[49m\u001b[43mresults\u001b[49m\u001b[38;5;241;43m.\u001b[39;49m\u001b[43mappend\u001b[49m\u001b[43m(\u001b[49m\u001b[43mresult\u001b[49m\u001b[43m)\u001b[49m\n",
      "\u001b[1;32m     17\u001b[0m \u001b[43m    \u001b[49m\u001b[38;5;28;43mprint\u001b[39;49m\u001b[43m(\u001b[49m\u001b[38;5;124;43mf\u001b[39;49m\u001b[38;5;124;43m\"\u001b[39;49m\u001b[38;5;124;43mGot result: \u001b[39;49m\u001b[38;5;132;43;01m{\u001b[39;49;00m\u001b[43mresult\u001b[49m\u001b[38;5;132;43;01m}\u001b[39;49;00m\u001b[38;5;124;43m\"\u001b[39;49m\u001b[43m)\u001b[49m\n",
      "\n",
      "File \u001b[0;32m~/projects/pipeline/parallele_pipeline.py:269\u001b[0m, in \u001b[0;36mPipeline.run\u001b[0;34m(self, inputs, ordered_result, show_progress, show_stage_progress)\u001b[0m\n",
      "\u001b[1;32m    266\u001b[0m             \u001b[38;5;28;01myield\u001b[39;00m result\n",
      "\u001b[1;32m    267\u001b[0m     \u001b[38;5;28;01melse\u001b[39;00m:\n",
      "\u001b[1;32m    268\u001b[0m         \u001b[38;5;66;03m# Intermediate stage - prepare for next stage\u001b[39;00m\n",
      "\u001b[0;32m--> 269\u001b[0m         current_data \u001b[38;5;241m=\u001b[39m \u001b[38;5;28;43mlist\u001b[39;49m\u001b[43m(\u001b[49m\n",
      "\u001b[1;32m    270\u001b[0m \u001b[43m            \u001b[49m\u001b[43mmake_stage_iterator\u001b[49m\u001b[43m(\u001b[49m\u001b[43mresults_iter\u001b[49m\u001b[43m,\u001b[49m\u001b[43m \u001b[49m\u001b[43mstage_idx\u001b[49m\u001b[43m)\u001b[49m\u001b[43m)\u001b[49m\n",
      "\u001b[1;32m    272\u001b[0m \u001b[38;5;28;01mexcept\u001b[39;00m WorkerException \u001b[38;5;28;01mas\u001b[39;00m e:\n",
      "\u001b[1;32m    273\u001b[0m     \u001b[38;5;28mself\u001b[39m\u001b[38;5;241m.\u001b[39m_running \u001b[38;5;241m=\u001b[39m \u001b[38;5;28;01mFalse\u001b[39;00m\n",
      "\n",
      "File \u001b[0;32m~/projects/pipeline/parallele_pipeline.py:246\u001b[0m, in \u001b[0;36mPipeline.run.<locals>.make_stage_iterator\u001b[0;34m(iterator, stage_idx)\u001b[0m\n",
      "\u001b[1;32m    245\u001b[0m \u001b[38;5;28;01mdef\u001b[39;00m \u001b[38;5;21mmake_stage_iterator\u001b[39m(iterator, stage_idx):\n",
      "\u001b[0;32m--> 246\u001b[0m \u001b[43m    \u001b[49m\u001b[38;5;28;43;01mfor\u001b[39;49;00m\u001b[43m \u001b[49m\u001b[43mseq_num\u001b[49m\u001b[43m,\u001b[49m\u001b[43m \u001b[49m\u001b[43mdata\u001b[49m\u001b[43m \u001b[49m\u001b[38;5;129;43;01min\u001b[39;49;00m\u001b[43m \u001b[49m\u001b[43miterator\u001b[49m\u001b[43m:\u001b[49m\n",
      "\u001b[1;32m    247\u001b[0m \u001b[43m        \u001b[49m\u001b[38;5;28;43;01mif\u001b[39;49;00m\u001b[43m \u001b[49m\u001b[38;5;129;43;01mnot\u001b[39;49;00m\u001b[43m \u001b[49m\u001b[38;5;28;43mself\u001b[39;49m\u001b[38;5;241;43m.\u001b[39;49m\u001b[43m_running\u001b[49m\u001b[43m:\u001b[49m\n",
      "\u001b[1;32m    248\u001b[0m \u001b[43m            \u001b[49m\u001b[38;5;28;43;01mbreak\u001b[39;49;00m\n",
      "\n",
      "File \u001b[0;32m/usr/lib/python3.12/multiprocessing/pool.py:861\u001b[0m, in \u001b[0;36mIMapIterator.next\u001b[0;34m(self, timeout)\u001b[0m\n",
      "\u001b[1;32m    859\u001b[0m     \u001b[38;5;28mself\u001b[39m\u001b[38;5;241m.\u001b[39m_pool \u001b[38;5;241m=\u001b[39m \u001b[38;5;28;01mNone\u001b[39;00m\n",
      "\u001b[1;32m    860\u001b[0m     \u001b[38;5;28;01mraise\u001b[39;00m \u001b[38;5;167;01mStopIteration\u001b[39;00m \u001b[38;5;28;01mfrom\u001b[39;00m \u001b[38;5;28;01mNone\u001b[39;00m\n",
      "\u001b[0;32m--> 861\u001b[0m \u001b[38;5;28;43mself\u001b[39;49m\u001b[38;5;241;43m.\u001b[39;49m\u001b[43m_cond\u001b[49m\u001b[38;5;241;43m.\u001b[39;49m\u001b[43mwait\u001b[49m\u001b[43m(\u001b[49m\u001b[43mtimeout\u001b[49m\u001b[43m)\u001b[49m\n",
      "\u001b[1;32m    862\u001b[0m \u001b[38;5;28;01mtry\u001b[39;00m:\n",
      "\u001b[1;32m    863\u001b[0m     item \u001b[38;5;241m=\u001b[39m \u001b[38;5;28mself\u001b[39m\u001b[38;5;241m.\u001b[39m_items\u001b[38;5;241m.\u001b[39mpopleft()\n",
      "\n",
      "File \u001b[0;32m/usr/lib/python3.12/threading.py:355\u001b[0m, in \u001b[0;36mCondition.wait\u001b[0;34m(self, timeout)\u001b[0m\n",
      "\u001b[1;32m    353\u001b[0m \u001b[38;5;28;01mtry\u001b[39;00m:    \u001b[38;5;66;03m# restore state no matter what (e.g., KeyboardInterrupt)\u001b[39;00m\n",
      "\u001b[1;32m    354\u001b[0m     \u001b[38;5;28;01mif\u001b[39;00m timeout \u001b[38;5;129;01mis\u001b[39;00m \u001b[38;5;28;01mNone\u001b[39;00m:\n",
      "\u001b[0;32m--> 355\u001b[0m         \u001b[43mwaiter\u001b[49m\u001b[38;5;241;43m.\u001b[39;49m\u001b[43macquire\u001b[49m\u001b[43m(\u001b[49m\u001b[43m)\u001b[49m\n",
      "\u001b[1;32m    356\u001b[0m         gotit \u001b[38;5;241m=\u001b[39m \u001b[38;5;28;01mTrue\u001b[39;00m\n",
      "\u001b[1;32m    357\u001b[0m     \u001b[38;5;28;01melse\u001b[39;00m:\n",
      "\n",
      "\u001b[0;31mKeyboardInterrupt\u001b[0m: "
     ]
    }
   ],
   "source": [
    "\n",
    "from parallele_pipeline import Pipeline,  StageConfig, Worker, NumberSquarer, NumberMultiplier, AsyncNumberAdder\n",
    "\n",
    "print(\"Starting pipeline processing...\")\n",
    "# Create and run pipeline with constructor arguments\n",
    "pipeline = Pipeline(NumberSquarer, StageConfig(worker_count=10, use_threads=True))\\\n",
    "    .then(NumberMultiplier, StageConfig(worker_count=2, queue_size=1), worker_kwargs={'multiplier': 3})\\\n",
    "    .then(AsyncNumberAdder, StageConfig(worker_count=2))\n",
    "\n",
    "# Run pipeline with input range\n",
    "inputs = list(range(100))\n",
    "print(\"Input sequence: \", inputs)\n",
    "print(\"\\nProcessing...\\n\")\n",
    "\n",
    "results = []\n",
    "for result in pipeline.run(inputs, ordered_result=True, show_progress=True, show_stage_progress=True):\n",
    "    results.append(result)\n",
    "    print(f\"Got result: {result}\")\n",
    "\n",
    "print(\"\\nFinal results in order:\", results)\n",
    "print(\"Pipeline processing completed!\")\n"
   ]
  },
  {
   "cell_type": "code",
   "execution_count": null,
   "metadata": {},
   "outputs": [
    {
     "name": "stdout",
     "output_type": "stream",
     "text": [
      "Starting pipeline processing...\n",
      "Input sequence:  [0, 1, 2, 3, 4, 5, 6, 7, 8, 9, 10, 11, 12, 13, 14, 15, 16, 17, 18, 19, 20, 21, 22, 23, 24, 25, 26, 27, 28, 29, 30, 31, 32, 33, 34, 35, 36, 37, 38, 39, 40, 41, 42, 43, 44, 45, 46, 47, 48, 49, 50, 51, 52, 53, 54, 55, 56, 57, 58, 59, 60, 61, 62, 63, 64, 65, 66, 67, 68, 69, 70, 71, 72, 73, 74, 75, 76, 77, 78, 79, 80, 81, 82, 83, 84, 85, 86, 87, 88, 89, 90, 91, 92, 93, 94, 95, 96, 97, 98, 99]\n",
      "\n",
      "Processing...\n",
      "\n",
      "Initializing worker NumberSquarer in process MainProcess...\n",
      "Initializing worker NumberSquarer in process MainProcess...\n",
      "Initializing worker NumberSquarer in process MainProcess...\n",
      "Initializing worker NumberSquarer in process MainProcess...\n",
      "Initializing worker NumberSquarer in process MainProcess...\n",
      "Initializing worker NumberSquarer in process MainProcess...\n",
      "Initializing worker NumberSquarer in process MainProcess...\n",
      "Initializing worker NumberSquarer in process MainProcess...\n",
      "Initializing worker NumberSquarer in process MainProcess...\n",
      "Initializing worker NumberSquarer in process MainProcess...\n"
     ]
    },
    {
     "data": {
      "application/vnd.jupyter.widget-view+json": {
       "model_id": "d23217a9ccdd437fbc770627ea38f4c7",
       "version_major": 2,
       "version_minor": 0
      },
      "text/plain": [
       "Total Progress:   0%|          | 0/100 [00:00<?, ?it/s]"
      ]
     },
     "metadata": {},
     "output_type": "display_data"
    },
    {
     "data": {
      "application/vnd.jupyter.widget-view+json": {
       "model_id": "e9e1e5582f96416f891239fea63dfd17",
       "version_major": 2,
       "version_minor": 0
      },
      "text/plain": [
       "Stage 1 (NumberSquarer):   0%|          | 0/100 [00:00<?, ?it/s]"
      ]
     },
     "metadata": {},
     "output_type": "display_data"
    },
    {
     "data": {
      "application/vnd.jupyter.widget-view+json": {
       "model_id": "fbcd2eb6d5804b73b931a96ef56cbf0e",
       "version_major": 2,
       "version_minor": 0
      },
      "text/plain": [
       "Stage 2 (NumberMultiplier):   0%|          | 0/100 [00:00<?, ?it/s]"
      ]
     },
     "metadata": {},
     "output_type": "display_data"
    },
    {
     "data": {
      "application/vnd.jupyter.widget-view+json": {
       "model_id": "e0d938ac5a204e62853fcc1e190b2640",
       "version_major": 2,
       "version_minor": 0
      },
      "text/plain": [
       "Stage 3 (AsyncNumberAdder):   0%|          | 0/100 [00:00<?, ?it/s]"
      ]
     },
     "metadata": {},
     "output_type": "display_data"
    },
    {
     "name": "stdout",
     "output_type": "stream",
     "text": [
      "Initializing worker NumberMultiplier in process SpawnPoolWorker-1...\n",
      "Initializing worker AsyncNumberAdder in process SpawnPoolWorker-3...\n",
      "Initializing worker AsyncNumberAdder in process SpawnPoolWorker-4...\n",
      "Initializing worker NumberMultiplier in process SpawnPoolWorker-2...\n",
      "\n",
      "Pipeline interrupted by user. Cleaning up...\n"
     ]
    },
    {
     "ename": "KeyboardInterrupt",
     "evalue": "",
     "output_type": "error",
     "traceback": [
      "\u001b[0;31m---------------------------------------------------------------------------\u001b[0m\n",
      "\u001b[0;31mIndexError\u001b[0m                                Traceback (most recent call last)\n",
      "File \u001b[0;32m/usr/lib/python3.12/multiprocessing/pool.py:856\u001b[0m, in \u001b[0;36mIMapIterator.next\u001b[0;34m(self, timeout)\u001b[0m\n",
      "\u001b[1;32m    855\u001b[0m \u001b[38;5;28;01mtry\u001b[39;00m:\n",
      "\u001b[0;32m--> 856\u001b[0m     item \u001b[38;5;241m=\u001b[39m \u001b[38;5;28;43mself\u001b[39;49m\u001b[38;5;241;43m.\u001b[39;49m\u001b[43m_items\u001b[49m\u001b[38;5;241;43m.\u001b[39;49m\u001b[43mpopleft\u001b[49m\u001b[43m(\u001b[49m\u001b[43m)\u001b[49m\n",
      "\u001b[1;32m    857\u001b[0m \u001b[38;5;28;01mexcept\u001b[39;00m \u001b[38;5;167;01mIndexError\u001b[39;00m:\n",
      "\n",
      "\u001b[0;31mIndexError\u001b[0m: pop from an empty deque\n",
      "\n",
      "During handling of the above exception, another exception occurred:\n",
      "\n",
      "\u001b[0;31mKeyboardInterrupt\u001b[0m                         Traceback (most recent call last)\n",
      "Cell \u001b[0;32mIn[1], line 15\u001b[0m\n",
      "\u001b[1;32m     12\u001b[0m \u001b[38;5;28mprint\u001b[39m(\u001b[38;5;124m\"\u001b[39m\u001b[38;5;130;01m\\n\u001b[39;00m\u001b[38;5;124mProcessing...\u001b[39m\u001b[38;5;130;01m\\n\u001b[39;00m\u001b[38;5;124m\"\u001b[39m)\n",
      "\u001b[1;32m     14\u001b[0m results \u001b[38;5;241m=\u001b[39m []\n",
      "\u001b[0;32m---> 15\u001b[0m \u001b[38;5;28;43;01mfor\u001b[39;49;00m\u001b[43m \u001b[49m\u001b[43mresult\u001b[49m\u001b[43m \u001b[49m\u001b[38;5;129;43;01min\u001b[39;49;00m\u001b[43m \u001b[49m\u001b[43mpipeline\u001b[49m\u001b[38;5;241;43m.\u001b[39;49m\u001b[43mrun\u001b[49m\u001b[43m(\u001b[49m\u001b[43minputs\u001b[49m\u001b[43m,\u001b[49m\u001b[43m \u001b[49m\u001b[43mordered_result\u001b[49m\u001b[38;5;241;43m=\u001b[39;49m\u001b[38;5;28;43;01mTrue\u001b[39;49;00m\u001b[43m,\u001b[49m\u001b[43m \u001b[49m\u001b[43mshow_progress\u001b[49m\u001b[38;5;241;43m=\u001b[39;49m\u001b[38;5;28;43;01mTrue\u001b[39;49;00m\u001b[43m,\u001b[49m\u001b[43m \u001b[49m\u001b[43mshow_stage_progress\u001b[49m\u001b[38;5;241;43m=\u001b[39;49m\u001b[38;5;28;43;01mTrue\u001b[39;49;00m\u001b[43m)\u001b[49m\u001b[43m:\u001b[49m\n",
      "\u001b[1;32m     16\u001b[0m \u001b[43m    \u001b[49m\u001b[43mresults\u001b[49m\u001b[38;5;241;43m.\u001b[39;49m\u001b[43mappend\u001b[49m\u001b[43m(\u001b[49m\u001b[43mresult\u001b[49m\u001b[43m)\u001b[49m\n",
      "\u001b[1;32m     17\u001b[0m \u001b[43m    \u001b[49m\u001b[38;5;28;43mprint\u001b[39;49m\u001b[43m(\u001b[49m\u001b[38;5;124;43mf\u001b[39;49m\u001b[38;5;124;43m\"\u001b[39;49m\u001b[38;5;124;43mGot result: \u001b[39;49m\u001b[38;5;132;43;01m{\u001b[39;49;00m\u001b[43mresult\u001b[49m\u001b[38;5;132;43;01m}\u001b[39;49;00m\u001b[38;5;124;43m\"\u001b[39;49m\u001b[43m)\u001b[49m\n",
      "\n",
      "File \u001b[0;32m~/projects/pipeline/parallele_pipeline.py:269\u001b[0m, in \u001b[0;36mPipeline.run\u001b[0;34m(self, inputs, ordered_result, show_progress, show_stage_progress)\u001b[0m\n",
      "\u001b[1;32m    266\u001b[0m             \u001b[38;5;28;01myield\u001b[39;00m result\n",
      "\u001b[1;32m    267\u001b[0m     \u001b[38;5;28;01melse\u001b[39;00m:\n",
      "\u001b[1;32m    268\u001b[0m         \u001b[38;5;66;03m# Intermediate stage - prepare for next stage\u001b[39;00m\n",
      "\u001b[0;32m--> 269\u001b[0m         current_data \u001b[38;5;241m=\u001b[39m \u001b[38;5;28;43mlist\u001b[39;49m\u001b[43m(\u001b[49m\n",
      "\u001b[1;32m    270\u001b[0m \u001b[43m            \u001b[49m\u001b[43mmake_stage_iterator\u001b[49m\u001b[43m(\u001b[49m\u001b[43mresults_iter\u001b[49m\u001b[43m,\u001b[49m\u001b[43m \u001b[49m\u001b[43mstage_idx\u001b[49m\u001b[43m)\u001b[49m\u001b[43m)\u001b[49m\n",
      "\u001b[1;32m    272\u001b[0m \u001b[38;5;28;01mexcept\u001b[39;00m WorkerException \u001b[38;5;28;01mas\u001b[39;00m e:\n",
      "\u001b[1;32m    273\u001b[0m     \u001b[38;5;28mself\u001b[39m\u001b[38;5;241m.\u001b[39m_running \u001b[38;5;241m=\u001b[39m \u001b[38;5;28;01mFalse\u001b[39;00m\n",
      "\n",
      "File \u001b[0;32m~/projects/pipeline/parallele_pipeline.py:246\u001b[0m, in \u001b[0;36mPipeline.run.<locals>.make_stage_iterator\u001b[0;34m(iterator, stage_idx)\u001b[0m\n",
      "\u001b[1;32m    245\u001b[0m \u001b[38;5;28;01mdef\u001b[39;00m \u001b[38;5;21mmake_stage_iterator\u001b[39m(iterator, stage_idx):\n",
      "\u001b[0;32m--> 246\u001b[0m \u001b[43m    \u001b[49m\u001b[38;5;28;43;01mfor\u001b[39;49;00m\u001b[43m \u001b[49m\u001b[43mseq_num\u001b[49m\u001b[43m,\u001b[49m\u001b[43m \u001b[49m\u001b[43mdata\u001b[49m\u001b[43m \u001b[49m\u001b[38;5;129;43;01min\u001b[39;49;00m\u001b[43m \u001b[49m\u001b[43miterator\u001b[49m\u001b[43m:\u001b[49m\n",
      "\u001b[1;32m    247\u001b[0m \u001b[43m        \u001b[49m\u001b[38;5;28;43;01mif\u001b[39;49;00m\u001b[43m \u001b[49m\u001b[38;5;129;43;01mnot\u001b[39;49;00m\u001b[43m \u001b[49m\u001b[38;5;28;43mself\u001b[39;49m\u001b[38;5;241;43m.\u001b[39;49m\u001b[43m_running\u001b[49m\u001b[43m:\u001b[49m\n",
      "\u001b[1;32m    248\u001b[0m \u001b[43m            \u001b[49m\u001b[38;5;28;43;01mbreak\u001b[39;49;00m\n",
      "\n",
      "File \u001b[0;32m/usr/lib/python3.12/multiprocessing/pool.py:861\u001b[0m, in \u001b[0;36mIMapIterator.next\u001b[0;34m(self, timeout)\u001b[0m\n",
      "\u001b[1;32m    859\u001b[0m     \u001b[38;5;28mself\u001b[39m\u001b[38;5;241m.\u001b[39m_pool \u001b[38;5;241m=\u001b[39m \u001b[38;5;28;01mNone\u001b[39;00m\n",
      "\u001b[1;32m    860\u001b[0m     \u001b[38;5;28;01mraise\u001b[39;00m \u001b[38;5;167;01mStopIteration\u001b[39;00m \u001b[38;5;28;01mfrom\u001b[39;00m \u001b[38;5;28;01mNone\u001b[39;00m\n",
      "\u001b[0;32m--> 861\u001b[0m \u001b[38;5;28;43mself\u001b[39;49m\u001b[38;5;241;43m.\u001b[39;49m\u001b[43m_cond\u001b[49m\u001b[38;5;241;43m.\u001b[39;49m\u001b[43mwait\u001b[49m\u001b[43m(\u001b[49m\u001b[43mtimeout\u001b[49m\u001b[43m)\u001b[49m\n",
      "\u001b[1;32m    862\u001b[0m \u001b[38;5;28;01mtry\u001b[39;00m:\n",
      "\u001b[1;32m    863\u001b[0m     item \u001b[38;5;241m=\u001b[39m \u001b[38;5;28mself\u001b[39m\u001b[38;5;241m.\u001b[39m_items\u001b[38;5;241m.\u001b[39mpopleft()\n",
      "\n",
      "File \u001b[0;32m/usr/lib/python3.12/threading.py:355\u001b[0m, in \u001b[0;36mCondition.wait\u001b[0;34m(self, timeout)\u001b[0m\n",
      "\u001b[1;32m    353\u001b[0m \u001b[38;5;28;01mtry\u001b[39;00m:    \u001b[38;5;66;03m# restore state no matter what (e.g., KeyboardInterrupt)\u001b[39;00m\n",
      "\u001b[1;32m    354\u001b[0m     \u001b[38;5;28;01mif\u001b[39;00m timeout \u001b[38;5;129;01mis\u001b[39;00m \u001b[38;5;28;01mNone\u001b[39;00m:\n",
      "\u001b[0;32m--> 355\u001b[0m         \u001b[43mwaiter\u001b[49m\u001b[38;5;241;43m.\u001b[39;49m\u001b[43macquire\u001b[49m\u001b[43m(\u001b[49m\u001b[43m)\u001b[49m\n",
      "\u001b[1;32m    356\u001b[0m         gotit \u001b[38;5;241m=\u001b[39m \u001b[38;5;28;01mTrue\u001b[39;00m\n",
      "\u001b[1;32m    357\u001b[0m     \u001b[38;5;28;01melse\u001b[39;00m:\n",
      "\n",
      "\u001b[0;31mKeyboardInterrupt\u001b[0m: "
     ]
    }
   ],
   "source": [
    "\n",
    "from parallele_pipeline import Pipeline,  StageConfig, Worker, NumberSquarer, NumberMultiplier, AsyncNumberAdder\n",
    "\n",
    "print(\"Starting pipeline processing...\")\n",
    "# Create and run pipeline with constructor arguments\n",
    "pipeline = Pipeline(NumberSquarer, StageConfig(worker_count=10, use_threads=True))\\\n",
    "    .then(NumberMultiplier, StageConfig(worker_count=2, queue_size=1), worker_kwargs={'multiplier': 3})\\\n",
    "    .then(AsyncNumberAdder, StageConfig(worker_count=2))\n",
    "\n",
    "# Run pipeline with input range\n",
    "inputs = list(range(100))\n",
    "print(\"Input sequence: \", inputs)\n",
    "print(\"\\nProcessing...\\n\")\n",
    "\n",
    "results = []\n",
    "for result in pipeline.run(inputs, ordered_result=True, show_progress=True, show_stage_progress=True):\n",
    "    results.append(result)\n",
    "    print(f\"Got result: {result}\")\n",
    "\n",
    "print(\"\\nFinal results in order:\", results)\n",
    "print(\"Pipeline processing completed!\")\n"
   ]
  },
  {
   "cell_type": "code",
   "execution_count": null,
   "metadata": {},
   "outputs": [
    {
     "name": "stdout",
     "output_type": "stream",
     "text": [
      "Starting pipeline processing...\n",
      "Input sequence:  [0, 1, 2, 3, 4, 5, 6, 7, 8, 9, 10, 11, 12, 13, 14, 15, 16, 17, 18, 19, 20, 21, 22, 23, 24, 25, 26, 27, 28, 29, 30, 31, 32, 33, 34, 35, 36, 37, 38, 39, 40, 41, 42, 43, 44, 45, 46, 47, 48, 49, 50, 51, 52, 53, 54, 55, 56, 57, 58, 59, 60, 61, 62, 63, 64, 65, 66, 67, 68, 69, 70, 71, 72, 73, 74, 75, 76, 77, 78, 79, 80, 81, 82, 83, 84, 85, 86, 87, 88, 89, 90, 91, 92, 93, 94, 95, 96, 97, 98, 99]\n",
      "\n",
      "Processing...\n",
      "\n",
      "Initializing worker NumberSquarer in process MainProcess...\n",
      "Initializing worker NumberSquarer in process MainProcess...\n",
      "Initializing worker NumberSquarer in process MainProcess...\n",
      "Initializing worker NumberSquarer in process MainProcess...\n",
      "Initializing worker NumberSquarer in process MainProcess...\n",
      "Initializing worker NumberSquarer in process MainProcess...\n",
      "Initializing worker NumberSquarer in process MainProcess...\n",
      "Initializing worker NumberSquarer in process MainProcess...\n",
      "Initializing worker NumberSquarer in process MainProcess...\n",
      "Initializing worker NumberSquarer in process MainProcess...\n"
     ]
    },
    {
     "data": {
      "application/vnd.jupyter.widget-view+json": {
       "model_id": "d23217a9ccdd437fbc770627ea38f4c7",
       "version_major": 2,
       "version_minor": 0
      },
      "text/plain": [
       "Total Progress:   0%|          | 0/100 [00:00<?, ?it/s]"
      ]
     },
     "metadata": {},
     "output_type": "display_data"
    },
    {
     "data": {
      "application/vnd.jupyter.widget-view+json": {
       "model_id": "e9e1e5582f96416f891239fea63dfd17",
       "version_major": 2,
       "version_minor": 0
      },
      "text/plain": [
       "Stage 1 (NumberSquarer):   0%|          | 0/100 [00:00<?, ?it/s]"
      ]
     },
     "metadata": {},
     "output_type": "display_data"
    },
    {
     "data": {
      "application/vnd.jupyter.widget-view+json": {
       "model_id": "fbcd2eb6d5804b73b931a96ef56cbf0e",
       "version_major": 2,
       "version_minor": 0
      },
      "text/plain": [
       "Stage 2 (NumberMultiplier):   0%|          | 0/100 [00:00<?, ?it/s]"
      ]
     },
     "metadata": {},
     "output_type": "display_data"
    },
    {
     "data": {
      "application/vnd.jupyter.widget-view+json": {
       "model_id": "e0d938ac5a204e62853fcc1e190b2640",
       "version_major": 2,
       "version_minor": 0
      },
      "text/plain": [
       "Stage 3 (AsyncNumberAdder):   0%|          | 0/100 [00:00<?, ?it/s]"
      ]
     },
     "metadata": {},
     "output_type": "display_data"
    },
    {
     "name": "stdout",
     "output_type": "stream",
     "text": [
      "Initializing worker NumberMultiplier in process SpawnPoolWorker-1...\n",
      "Initializing worker AsyncNumberAdder in process SpawnPoolWorker-3...\n",
      "Initializing worker AsyncNumberAdder in process SpawnPoolWorker-4...\n",
      "Initializing worker NumberMultiplier in process SpawnPoolWorker-2...\n",
      "\n",
      "Pipeline interrupted by user. Cleaning up...\n"
     ]
    },
    {
     "ename": "KeyboardInterrupt",
     "evalue": "",
     "output_type": "error",
     "traceback": [
      "\u001b[0;31m---------------------------------------------------------------------------\u001b[0m\n",
      "\u001b[0;31mIndexError\u001b[0m                                Traceback (most recent call last)\n",
      "File \u001b[0;32m/usr/lib/python3.12/multiprocessing/pool.py:856\u001b[0m, in \u001b[0;36mIMapIterator.next\u001b[0;34m(self, timeout)\u001b[0m\n",
      "\u001b[1;32m    855\u001b[0m \u001b[38;5;28;01mtry\u001b[39;00m:\n",
      "\u001b[0;32m--> 856\u001b[0m     item \u001b[38;5;241m=\u001b[39m \u001b[38;5;28;43mself\u001b[39;49m\u001b[38;5;241;43m.\u001b[39;49m\u001b[43m_items\u001b[49m\u001b[38;5;241;43m.\u001b[39;49m\u001b[43mpopleft\u001b[49m\u001b[43m(\u001b[49m\u001b[43m)\u001b[49m\n",
      "\u001b[1;32m    857\u001b[0m \u001b[38;5;28;01mexcept\u001b[39;00m \u001b[38;5;167;01mIndexError\u001b[39;00m:\n",
      "\n",
      "\u001b[0;31mIndexError\u001b[0m: pop from an empty deque\n",
      "\n",
      "During handling of the above exception, another exception occurred:\n",
      "\n",
      "\u001b[0;31mKeyboardInterrupt\u001b[0m                         Traceback (most recent call last)\n",
      "Cell \u001b[0;32mIn[1], line 15\u001b[0m\n",
      "\u001b[1;32m     12\u001b[0m \u001b[38;5;28mprint\u001b[39m(\u001b[38;5;124m\"\u001b[39m\u001b[38;5;130;01m\\n\u001b[39;00m\u001b[38;5;124mProcessing...\u001b[39m\u001b[38;5;130;01m\\n\u001b[39;00m\u001b[38;5;124m\"\u001b[39m)\n",
      "\u001b[1;32m     14\u001b[0m results \u001b[38;5;241m=\u001b[39m []\n",
      "\u001b[0;32m---> 15\u001b[0m \u001b[38;5;28;43;01mfor\u001b[39;49;00m\u001b[43m \u001b[49m\u001b[43mresult\u001b[49m\u001b[43m \u001b[49m\u001b[38;5;129;43;01min\u001b[39;49;00m\u001b[43m \u001b[49m\u001b[43mpipeline\u001b[49m\u001b[38;5;241;43m.\u001b[39;49m\u001b[43mrun\u001b[49m\u001b[43m(\u001b[49m\u001b[43minputs\u001b[49m\u001b[43m,\u001b[49m\u001b[43m \u001b[49m\u001b[43mordered_result\u001b[49m\u001b[38;5;241;43m=\u001b[39;49m\u001b[38;5;28;43;01mTrue\u001b[39;49;00m\u001b[43m,\u001b[49m\u001b[43m \u001b[49m\u001b[43mshow_progress\u001b[49m\u001b[38;5;241;43m=\u001b[39;49m\u001b[38;5;28;43;01mTrue\u001b[39;49;00m\u001b[43m,\u001b[49m\u001b[43m \u001b[49m\u001b[43mshow_stage_progress\u001b[49m\u001b[38;5;241;43m=\u001b[39;49m\u001b[38;5;28;43;01mTrue\u001b[39;49;00m\u001b[43m)\u001b[49m\u001b[43m:\u001b[49m\n",
      "\u001b[1;32m     16\u001b[0m \u001b[43m    \u001b[49m\u001b[43mresults\u001b[49m\u001b[38;5;241;43m.\u001b[39;49m\u001b[43mappend\u001b[49m\u001b[43m(\u001b[49m\u001b[43mresult\u001b[49m\u001b[43m)\u001b[49m\n",
      "\u001b[1;32m     17\u001b[0m \u001b[43m    \u001b[49m\u001b[38;5;28;43mprint\u001b[39;49m\u001b[43m(\u001b[49m\u001b[38;5;124;43mf\u001b[39;49m\u001b[38;5;124;43m\"\u001b[39;49m\u001b[38;5;124;43mGot result: \u001b[39;49m\u001b[38;5;132;43;01m{\u001b[39;49;00m\u001b[43mresult\u001b[49m\u001b[38;5;132;43;01m}\u001b[39;49;00m\u001b[38;5;124;43m\"\u001b[39;49m\u001b[43m)\u001b[49m\n",
      "\n",
      "File \u001b[0;32m~/projects/pipeline/parallele_pipeline.py:269\u001b[0m, in \u001b[0;36mPipeline.run\u001b[0;34m(self, inputs, ordered_result, show_progress, show_stage_progress)\u001b[0m\n",
      "\u001b[1;32m    266\u001b[0m             \u001b[38;5;28;01myield\u001b[39;00m result\n",
      "\u001b[1;32m    267\u001b[0m     \u001b[38;5;28;01melse\u001b[39;00m:\n",
      "\u001b[1;32m    268\u001b[0m         \u001b[38;5;66;03m# Intermediate stage - prepare for next stage\u001b[39;00m\n",
      "\u001b[0;32m--> 269\u001b[0m         current_data \u001b[38;5;241m=\u001b[39m \u001b[38;5;28;43mlist\u001b[39;49m\u001b[43m(\u001b[49m\n",
      "\u001b[1;32m    270\u001b[0m \u001b[43m            \u001b[49m\u001b[43mmake_stage_iterator\u001b[49m\u001b[43m(\u001b[49m\u001b[43mresults_iter\u001b[49m\u001b[43m,\u001b[49m\u001b[43m \u001b[49m\u001b[43mstage_idx\u001b[49m\u001b[43m)\u001b[49m\u001b[43m)\u001b[49m\n",
      "\u001b[1;32m    272\u001b[0m \u001b[38;5;28;01mexcept\u001b[39;00m WorkerException \u001b[38;5;28;01mas\u001b[39;00m e:\n",
      "\u001b[1;32m    273\u001b[0m     \u001b[38;5;28mself\u001b[39m\u001b[38;5;241m.\u001b[39m_running \u001b[38;5;241m=\u001b[39m \u001b[38;5;28;01mFalse\u001b[39;00m\n",
      "\n",
      "File \u001b[0;32m~/projects/pipeline/parallele_pipeline.py:246\u001b[0m, in \u001b[0;36mPipeline.run.<locals>.make_stage_iterator\u001b[0;34m(iterator, stage_idx)\u001b[0m\n",
      "\u001b[1;32m    245\u001b[0m \u001b[38;5;28;01mdef\u001b[39;00m \u001b[38;5;21mmake_stage_iterator\u001b[39m(iterator, stage_idx):\n",
      "\u001b[0;32m--> 246\u001b[0m \u001b[43m    \u001b[49m\u001b[38;5;28;43;01mfor\u001b[39;49;00m\u001b[43m \u001b[49m\u001b[43mseq_num\u001b[49m\u001b[43m,\u001b[49m\u001b[43m \u001b[49m\u001b[43mdata\u001b[49m\u001b[43m \u001b[49m\u001b[38;5;129;43;01min\u001b[39;49;00m\u001b[43m \u001b[49m\u001b[43miterator\u001b[49m\u001b[43m:\u001b[49m\n",
      "\u001b[1;32m    247\u001b[0m \u001b[43m        \u001b[49m\u001b[38;5;28;43;01mif\u001b[39;49;00m\u001b[43m \u001b[49m\u001b[38;5;129;43;01mnot\u001b[39;49;00m\u001b[43m \u001b[49m\u001b[38;5;28;43mself\u001b[39;49m\u001b[38;5;241;43m.\u001b[39;49m\u001b[43m_running\u001b[49m\u001b[43m:\u001b[49m\n",
      "\u001b[1;32m    248\u001b[0m \u001b[43m            \u001b[49m\u001b[38;5;28;43;01mbreak\u001b[39;49;00m\n",
      "\n",
      "File \u001b[0;32m/usr/lib/python3.12/multiprocessing/pool.py:861\u001b[0m, in \u001b[0;36mIMapIterator.next\u001b[0;34m(self, timeout)\u001b[0m\n",
      "\u001b[1;32m    859\u001b[0m     \u001b[38;5;28mself\u001b[39m\u001b[38;5;241m.\u001b[39m_pool \u001b[38;5;241m=\u001b[39m \u001b[38;5;28;01mNone\u001b[39;00m\n",
      "\u001b[1;32m    860\u001b[0m     \u001b[38;5;28;01mraise\u001b[39;00m \u001b[38;5;167;01mStopIteration\u001b[39;00m \u001b[38;5;28;01mfrom\u001b[39;00m \u001b[38;5;28;01mNone\u001b[39;00m\n",
      "\u001b[0;32m--> 861\u001b[0m \u001b[38;5;28;43mself\u001b[39;49m\u001b[38;5;241;43m.\u001b[39;49m\u001b[43m_cond\u001b[49m\u001b[38;5;241;43m.\u001b[39;49m\u001b[43mwait\u001b[49m\u001b[43m(\u001b[49m\u001b[43mtimeout\u001b[49m\u001b[43m)\u001b[49m\n",
      "\u001b[1;32m    862\u001b[0m \u001b[38;5;28;01mtry\u001b[39;00m:\n",
      "\u001b[1;32m    863\u001b[0m     item \u001b[38;5;241m=\u001b[39m \u001b[38;5;28mself\u001b[39m\u001b[38;5;241m.\u001b[39m_items\u001b[38;5;241m.\u001b[39mpopleft()\n",
      "\n",
      "File \u001b[0;32m/usr/lib/python3.12/threading.py:355\u001b[0m, in \u001b[0;36mCondition.wait\u001b[0;34m(self, timeout)\u001b[0m\n",
      "\u001b[1;32m    353\u001b[0m \u001b[38;5;28;01mtry\u001b[39;00m:    \u001b[38;5;66;03m# restore state no matter what (e.g., KeyboardInterrupt)\u001b[39;00m\n",
      "\u001b[1;32m    354\u001b[0m     \u001b[38;5;28;01mif\u001b[39;00m timeout \u001b[38;5;129;01mis\u001b[39;00m \u001b[38;5;28;01mNone\u001b[39;00m:\n",
      "\u001b[0;32m--> 355\u001b[0m         \u001b[43mwaiter\u001b[49m\u001b[38;5;241;43m.\u001b[39;49m\u001b[43macquire\u001b[49m\u001b[43m(\u001b[49m\u001b[43m)\u001b[49m\n",
      "\u001b[1;32m    356\u001b[0m         gotit \u001b[38;5;241m=\u001b[39m \u001b[38;5;28;01mTrue\u001b[39;00m\n",
      "\u001b[1;32m    357\u001b[0m     \u001b[38;5;28;01melse\u001b[39;00m:\n",
      "\n",
      "\u001b[0;31mKeyboardInterrupt\u001b[0m: "
     ]
    }
   ],
   "source": [
    "\n",
    "from parallele_pipeline import Pipeline,  StageConfig, Worker, NumberSquarer, NumberMultiplier, AsyncNumberAdder\n",
    "\n",
    "print(\"Starting pipeline processing...\")\n",
    "# Create and run pipeline with constructor arguments\n",
    "pipeline = Pipeline(NumberSquarer, StageConfig(worker_count=10, use_threads=True))\\\n",
    "    .then(NumberMultiplier, StageConfig(worker_count=2, queue_size=1), worker_kwargs={'multiplier': 3})\\\n",
    "    .then(AsyncNumberAdder, StageConfig(worker_count=2))\n",
    "\n",
    "# Run pipeline with input range\n",
    "inputs = list(range(100))\n",
    "print(\"Input sequence: \", inputs)\n",
    "print(\"\\nProcessing...\\n\")\n",
    "\n",
    "results = []\n",
    "for result in pipeline.run(inputs, ordered_result=True, show_progress=True, show_stage_progress=True):\n",
    "    results.append(result)\n",
    "    print(f\"Got result: {result}\")\n",
    "\n",
    "print(\"\\nFinal results in order:\", results)\n",
    "print(\"Pipeline processing completed!\")\n"
   ]
  },
  {
   "cell_type": "code",
   "execution_count": null,
   "metadata": {},
   "outputs": [
    {
     "name": "stdout",
     "output_type": "stream",
     "text": [
      "Starting pipeline processing...\n",
      "Input sequence:  [0, 1, 2, 3, 4, 5, 6, 7, 8, 9, 10, 11, 12, 13, 14, 15, 16, 17, 18, 19, 20, 21, 22, 23, 24, 25, 26, 27, 28, 29, 30, 31, 32, 33, 34, 35, 36, 37, 38, 39, 40, 41, 42, 43, 44, 45, 46, 47, 48, 49, 50, 51, 52, 53, 54, 55, 56, 57, 58, 59, 60, 61, 62, 63, 64, 65, 66, 67, 68, 69, 70, 71, 72, 73, 74, 75, 76, 77, 78, 79, 80, 81, 82, 83, 84, 85, 86, 87, 88, 89, 90, 91, 92, 93, 94, 95, 96, 97, 98, 99]\n",
      "\n",
      "Processing...\n",
      "\n",
      "Initializing worker NumberSquarer in process MainProcess...\n",
      "Initializing worker NumberSquarer in process MainProcess...\n",
      "Initializing worker NumberSquarer in process MainProcess...\n",
      "Initializing worker NumberSquarer in process MainProcess...\n",
      "Initializing worker NumberSquarer in process MainProcess...\n",
      "Initializing worker NumberSquarer in process MainProcess...\n",
      "Initializing worker NumberSquarer in process MainProcess...\n",
      "Initializing worker NumberSquarer in process MainProcess...\n",
      "Initializing worker NumberSquarer in process MainProcess...\n",
      "Initializing worker NumberSquarer in process MainProcess...\n"
     ]
    },
    {
     "data": {
      "application/vnd.jupyter.widget-view+json": {
       "model_id": "d23217a9ccdd437fbc770627ea38f4c7",
       "version_major": 2,
       "version_minor": 0
      },
      "text/plain": [
       "Total Progress:   0%|          | 0/100 [00:00<?, ?it/s]"
      ]
     },
     "metadata": {},
     "output_type": "display_data"
    },
    {
     "data": {
      "application/vnd.jupyter.widget-view+json": {
       "model_id": "e9e1e5582f96416f891239fea63dfd17",
       "version_major": 2,
       "version_minor": 0
      },
      "text/plain": [
       "Stage 1 (NumberSquarer):   0%|          | 0/100 [00:00<?, ?it/s]"
      ]
     },
     "metadata": {},
     "output_type": "display_data"
    },
    {
     "data": {
      "application/vnd.jupyter.widget-view+json": {
       "model_id": "fbcd2eb6d5804b73b931a96ef56cbf0e",
       "version_major": 2,
       "version_minor": 0
      },
      "text/plain": [
       "Stage 2 (NumberMultiplier):   0%|          | 0/100 [00:00<?, ?it/s]"
      ]
     },
     "metadata": {},
     "output_type": "display_data"
    },
    {
     "data": {
      "application/vnd.jupyter.widget-view+json": {
       "model_id": "e0d938ac5a204e62853fcc1e190b2640",
       "version_major": 2,
       "version_minor": 0
      },
      "text/plain": [
       "Stage 3 (AsyncNumberAdder):   0%|          | 0/100 [00:00<?, ?it/s]"
      ]
     },
     "metadata": {},
     "output_type": "display_data"
    },
    {
     "name": "stdout",
     "output_type": "stream",
     "text": [
      "Initializing worker NumberMultiplier in process SpawnPoolWorker-1...\n",
      "Initializing worker AsyncNumberAdder in process SpawnPoolWorker-3...\n",
      "Initializing worker AsyncNumberAdder in process SpawnPoolWorker-4...\n",
      "Initializing worker NumberMultiplier in process SpawnPoolWorker-2...\n",
      "\n",
      "Pipeline interrupted by user. Cleaning up...\n"
     ]
    },
    {
     "ename": "KeyboardInterrupt",
     "evalue": "",
     "output_type": "error",
     "traceback": [
      "\u001b[0;31m---------------------------------------------------------------------------\u001b[0m\n",
      "\u001b[0;31mIndexError\u001b[0m                                Traceback (most recent call last)\n",
      "File \u001b[0;32m/usr/lib/python3.12/multiprocessing/pool.py:856\u001b[0m, in \u001b[0;36mIMapIterator.next\u001b[0;34m(self, timeout)\u001b[0m\n",
      "\u001b[1;32m    855\u001b[0m \u001b[38;5;28;01mtry\u001b[39;00m:\n",
      "\u001b[0;32m--> 856\u001b[0m     item \u001b[38;5;241m=\u001b[39m \u001b[38;5;28;43mself\u001b[39;49m\u001b[38;5;241;43m.\u001b[39;49m\u001b[43m_items\u001b[49m\u001b[38;5;241;43m.\u001b[39;49m\u001b[43mpopleft\u001b[49m\u001b[43m(\u001b[49m\u001b[43m)\u001b[49m\n",
      "\u001b[1;32m    857\u001b[0m \u001b[38;5;28;01mexcept\u001b[39;00m \u001b[38;5;167;01mIndexError\u001b[39;00m:\n",
      "\n",
      "\u001b[0;31mIndexError\u001b[0m: pop from an empty deque\n",
      "\n",
      "During handling of the above exception, another exception occurred:\n",
      "\n",
      "\u001b[0;31mKeyboardInterrupt\u001b[0m                         Traceback (most recent call last)\n",
      "Cell \u001b[0;32mIn[1], line 15\u001b[0m\n",
      "\u001b[1;32m     12\u001b[0m \u001b[38;5;28mprint\u001b[39m(\u001b[38;5;124m\"\u001b[39m\u001b[38;5;130;01m\\n\u001b[39;00m\u001b[38;5;124mProcessing...\u001b[39m\u001b[38;5;130;01m\\n\u001b[39;00m\u001b[38;5;124m\"\u001b[39m)\n",
      "\u001b[1;32m     14\u001b[0m results \u001b[38;5;241m=\u001b[39m []\n",
      "\u001b[0;32m---> 15\u001b[0m \u001b[38;5;28;43;01mfor\u001b[39;49;00m\u001b[43m \u001b[49m\u001b[43mresult\u001b[49m\u001b[43m \u001b[49m\u001b[38;5;129;43;01min\u001b[39;49;00m\u001b[43m \u001b[49m\u001b[43mpipeline\u001b[49m\u001b[38;5;241;43m.\u001b[39;49m\u001b[43mrun\u001b[49m\u001b[43m(\u001b[49m\u001b[43minputs\u001b[49m\u001b[43m,\u001b[49m\u001b[43m \u001b[49m\u001b[43mordered_result\u001b[49m\u001b[38;5;241;43m=\u001b[39;49m\u001b[38;5;28;43;01mTrue\u001b[39;49;00m\u001b[43m,\u001b[49m\u001b[43m \u001b[49m\u001b[43mshow_progress\u001b[49m\u001b[38;5;241;43m=\u001b[39;49m\u001b[38;5;28;43;01mTrue\u001b[39;49;00m\u001b[43m,\u001b[49m\u001b[43m \u001b[49m\u001b[43mshow_stage_progress\u001b[49m\u001b[38;5;241;43m=\u001b[39;49m\u001b[38;5;28;43;01mTrue\u001b[39;49;00m\u001b[43m)\u001b[49m\u001b[43m:\u001b[49m\n",
      "\u001b[1;32m     16\u001b[0m \u001b[43m    \u001b[49m\u001b[43mresults\u001b[49m\u001b[38;5;241;43m.\u001b[39;49m\u001b[43mappend\u001b[49m\u001b[43m(\u001b[49m\u001b[43mresult\u001b[49m\u001b[43m)\u001b[49m\n",
      "\u001b[1;32m     17\u001b[0m \u001b[43m    \u001b[49m\u001b[38;5;28;43mprint\u001b[39;49m\u001b[43m(\u001b[49m\u001b[38;5;124;43mf\u001b[39;49m\u001b[38;5;124;43m\"\u001b[39;49m\u001b[38;5;124;43mGot result: \u001b[39;49m\u001b[38;5;132;43;01m{\u001b[39;49;00m\u001b[43mresult\u001b[49m\u001b[38;5;132;43;01m}\u001b[39;49;00m\u001b[38;5;124;43m\"\u001b[39;49m\u001b[43m)\u001b[49m\n",
      "\n",
      "File \u001b[0;32m~/projects/pipeline/parallele_pipeline.py:269\u001b[0m, in \u001b[0;36mPipeline.run\u001b[0;34m(self, inputs, ordered_result, show_progress, show_stage_progress)\u001b[0m\n",
      "\u001b[1;32m    266\u001b[0m             \u001b[38;5;28;01myield\u001b[39;00m result\n",
      "\u001b[1;32m    267\u001b[0m     \u001b[38;5;28;01melse\u001b[39;00m:\n",
      "\u001b[1;32m    268\u001b[0m         \u001b[38;5;66;03m# Intermediate stage - prepare for next stage\u001b[39;00m\n",
      "\u001b[0;32m--> 269\u001b[0m         current_data \u001b[38;5;241m=\u001b[39m \u001b[38;5;28;43mlist\u001b[39;49m\u001b[43m(\u001b[49m\n",
      "\u001b[1;32m    270\u001b[0m \u001b[43m            \u001b[49m\u001b[43mmake_stage_iterator\u001b[49m\u001b[43m(\u001b[49m\u001b[43mresults_iter\u001b[49m\u001b[43m,\u001b[49m\u001b[43m \u001b[49m\u001b[43mstage_idx\u001b[49m\u001b[43m)\u001b[49m\u001b[43m)\u001b[49m\n",
      "\u001b[1;32m    272\u001b[0m \u001b[38;5;28;01mexcept\u001b[39;00m WorkerException \u001b[38;5;28;01mas\u001b[39;00m e:\n",
      "\u001b[1;32m    273\u001b[0m     \u001b[38;5;28mself\u001b[39m\u001b[38;5;241m.\u001b[39m_running \u001b[38;5;241m=\u001b[39m \u001b[38;5;28;01mFalse\u001b[39;00m\n",
      "\n",
      "File \u001b[0;32m~/projects/pipeline/parallele_pipeline.py:246\u001b[0m, in \u001b[0;36mPipeline.run.<locals>.make_stage_iterator\u001b[0;34m(iterator, stage_idx)\u001b[0m\n",
      "\u001b[1;32m    245\u001b[0m \u001b[38;5;28;01mdef\u001b[39;00m \u001b[38;5;21mmake_stage_iterator\u001b[39m(iterator, stage_idx):\n",
      "\u001b[0;32m--> 246\u001b[0m \u001b[43m    \u001b[49m\u001b[38;5;28;43;01mfor\u001b[39;49;00m\u001b[43m \u001b[49m\u001b[43mseq_num\u001b[49m\u001b[43m,\u001b[49m\u001b[43m \u001b[49m\u001b[43mdata\u001b[49m\u001b[43m \u001b[49m\u001b[38;5;129;43;01min\u001b[39;49;00m\u001b[43m \u001b[49m\u001b[43miterator\u001b[49m\u001b[43m:\u001b[49m\n",
      "\u001b[1;32m    247\u001b[0m \u001b[43m        \u001b[49m\u001b[38;5;28;43;01mif\u001b[39;49;00m\u001b[43m \u001b[49m\u001b[38;5;129;43;01mnot\u001b[39;49;00m\u001b[43m \u001b[49m\u001b[38;5;28;43mself\u001b[39;49m\u001b[38;5;241;43m.\u001b[39;49m\u001b[43m_running\u001b[49m\u001b[43m:\u001b[49m\n",
      "\u001b[1;32m    248\u001b[0m \u001b[43m            \u001b[49m\u001b[38;5;28;43;01mbreak\u001b[39;49;00m\n",
      "\n",
      "File \u001b[0;32m/usr/lib/python3.12/multiprocessing/pool.py:861\u001b[0m, in \u001b[0;36mIMapIterator.next\u001b[0;34m(self, timeout)\u001b[0m\n",
      "\u001b[1;32m    859\u001b[0m     \u001b[38;5;28mself\u001b[39m\u001b[38;5;241m.\u001b[39m_pool \u001b[38;5;241m=\u001b[39m \u001b[38;5;28;01mNone\u001b[39;00m\n",
      "\u001b[1;32m    860\u001b[0m     \u001b[38;5;28;01mraise\u001b[39;00m \u001b[38;5;167;01mStopIteration\u001b[39;00m \u001b[38;5;28;01mfrom\u001b[39;00m \u001b[38;5;28;01mNone\u001b[39;00m\n",
      "\u001b[0;32m--> 861\u001b[0m \u001b[38;5;28;43mself\u001b[39;49m\u001b[38;5;241;43m.\u001b[39;49m\u001b[43m_cond\u001b[49m\u001b[38;5;241;43m.\u001b[39;49m\u001b[43mwait\u001b[49m\u001b[43m(\u001b[49m\u001b[43mtimeout\u001b[49m\u001b[43m)\u001b[49m\n",
      "\u001b[1;32m    862\u001b[0m \u001b[38;5;28;01mtry\u001b[39;00m:\n",
      "\u001b[1;32m    863\u001b[0m     item \u001b[38;5;241m=\u001b[39m \u001b[38;5;28mself\u001b[39m\u001b[38;5;241m.\u001b[39m_items\u001b[38;5;241m.\u001b[39mpopleft()\n",
      "\n",
      "File \u001b[0;32m/usr/lib/python3.12/threading.py:355\u001b[0m, in \u001b[0;36mCondition.wait\u001b[0;34m(self, timeout)\u001b[0m\n",
      "\u001b[1;32m    353\u001b[0m \u001b[38;5;28;01mtry\u001b[39;00m:    \u001b[38;5;66;03m# restore state no matter what (e.g., KeyboardInterrupt)\u001b[39;00m\n",
      "\u001b[1;32m    354\u001b[0m     \u001b[38;5;28;01mif\u001b[39;00m timeout \u001b[38;5;129;01mis\u001b[39;00m \u001b[38;5;28;01mNone\u001b[39;00m:\n",
      "\u001b[0;32m--> 355\u001b[0m         \u001b[43mwaiter\u001b[49m\u001b[38;5;241;43m.\u001b[39;49m\u001b[43macquire\u001b[49m\u001b[43m(\u001b[49m\u001b[43m)\u001b[49m\n",
      "\u001b[1;32m    356\u001b[0m         gotit \u001b[38;5;241m=\u001b[39m \u001b[38;5;28;01mTrue\u001b[39;00m\n",
      "\u001b[1;32m    357\u001b[0m     \u001b[38;5;28;01melse\u001b[39;00m:\n",
      "\n",
      "\u001b[0;31mKeyboardInterrupt\u001b[0m: "
     ]
    }
   ],
   "source": [
    "\n",
    "from parallele_pipeline import Pipeline,  StageConfig, Worker, NumberSquarer, NumberMultiplier, AsyncNumberAdder\n",
    "\n",
    "print(\"Starting pipeline processing...\")\n",
    "# Create and run pipeline with constructor arguments\n",
    "pipeline = Pipeline(NumberSquarer, StageConfig(worker_count=10, use_threads=True))\\\n",
    "    .then(NumberMultiplier, StageConfig(worker_count=2, queue_size=1), worker_kwargs={'multiplier': 3})\\\n",
    "    .then(AsyncNumberAdder, StageConfig(worker_count=2))\n",
    "\n",
    "# Run pipeline with input range\n",
    "inputs = list(range(100))\n",
    "print(\"Input sequence: \", inputs)\n",
    "print(\"\\nProcessing...\\n\")\n",
    "\n",
    "results = []\n",
    "for result in pipeline.run(inputs, ordered_result=True, show_progress=True, show_stage_progress=True):\n",
    "    results.append(result)\n",
    "    print(f\"Got result: {result}\")\n",
    "\n",
    "print(\"\\nFinal results in order:\", results)\n",
    "print(\"Pipeline processing completed!\")\n"
   ]
  },
  {
   "cell_type": "code",
   "execution_count": null,
   "metadata": {},
   "outputs": [
    {
     "name": "stdout",
     "output_type": "stream",
     "text": [
      "Starting pipeline processing...\n",
      "Input sequence:  [0, 1, 2, 3, 4, 5, 6, 7, 8, 9, 10, 11, 12, 13, 14, 15, 16, 17, 18, 19, 20, 21, 22, 23, 24, 25, 26, 27, 28, 29, 30, 31, 32, 33, 34, 35, 36, 37, 38, 39, 40, 41, 42, 43, 44, 45, 46, 47, 48, 49, 50, 51, 52, 53, 54, 55, 56, 57, 58, 59, 60, 61, 62, 63, 64, 65, 66, 67, 68, 69, 70, 71, 72, 73, 74, 75, 76, 77, 78, 79, 80, 81, 82, 83, 84, 85, 86, 87, 88, 89, 90, 91, 92, 93, 94, 95, 96, 97, 98, 99]\n",
      "\n",
      "Processing...\n",
      "\n",
      "Initializing worker NumberSquarer in process MainProcess...\n",
      "Initializing worker NumberSquarer in process MainProcess...\n",
      "Initializing worker NumberSquarer in process MainProcess...\n",
      "Initializing worker NumberSquarer in process MainProcess...\n",
      "Initializing worker NumberSquarer in process MainProcess...\n",
      "Initializing worker NumberSquarer in process MainProcess...\n",
      "Initializing worker NumberSquarer in process MainProcess...\n",
      "Initializing worker NumberSquarer in process MainProcess...\n",
      "Initializing worker NumberSquarer in process MainProcess...\n",
      "Initializing worker NumberSquarer in process MainProcess...\n"
     ]
    },
    {
     "data": {
      "application/vnd.jupyter.widget-view+json": {
       "model_id": "d23217a9ccdd437fbc770627ea38f4c7",
       "version_major": 2,
       "version_minor": 0
      },
      "text/plain": [
       "Total Progress:   0%|          | 0/100 [00:00<?, ?it/s]"
      ]
     },
     "metadata": {},
     "output_type": "display_data"
    },
    {
     "data": {
      "application/vnd.jupyter.widget-view+json": {
       "model_id": "e9e1e5582f96416f891239fea63dfd17",
       "version_major": 2,
       "version_minor": 0
      },
      "text/plain": [
       "Stage 1 (NumberSquarer):   0%|          | 0/100 [00:00<?, ?it/s]"
      ]
     },
     "metadata": {},
     "output_type": "display_data"
    },
    {
     "data": {
      "application/vnd.jupyter.widget-view+json": {
       "model_id": "fbcd2eb6d5804b73b931a96ef56cbf0e",
       "version_major": 2,
       "version_minor": 0
      },
      "text/plain": [
       "Stage 2 (NumberMultiplier):   0%|          | 0/100 [00:00<?, ?it/s]"
      ]
     },
     "metadata": {},
     "output_type": "display_data"
    },
    {
     "data": {
      "application/vnd.jupyter.widget-view+json": {
       "model_id": "e0d938ac5a204e62853fcc1e190b2640",
       "version_major": 2,
       "version_minor": 0
      },
      "text/plain": [
       "Stage 3 (AsyncNumberAdder):   0%|          | 0/100 [00:00<?, ?it/s]"
      ]
     },
     "metadata": {},
     "output_type": "display_data"
    },
    {
     "name": "stdout",
     "output_type": "stream",
     "text": [
      "Initializing worker NumberMultiplier in process SpawnPoolWorker-1...\n",
      "Initializing worker AsyncNumberAdder in process SpawnPoolWorker-3...\n",
      "Initializing worker AsyncNumberAdder in process SpawnPoolWorker-4...\n",
      "Initializing worker NumberMultiplier in process SpawnPoolWorker-2...\n",
      "\n",
      "Pipeline interrupted by user. Cleaning up...\n"
     ]
    },
    {
     "ename": "KeyboardInterrupt",
     "evalue": "",
     "output_type": "error",
     "traceback": [
      "\u001b[0;31m---------------------------------------------------------------------------\u001b[0m\n",
      "\u001b[0;31mIndexError\u001b[0m                                Traceback (most recent call last)\n",
      "File \u001b[0;32m/usr/lib/python3.12/multiprocessing/pool.py:856\u001b[0m, in \u001b[0;36mIMapIterator.next\u001b[0;34m(self, timeout)\u001b[0m\n",
      "\u001b[1;32m    855\u001b[0m \u001b[38;5;28;01mtry\u001b[39;00m:\n",
      "\u001b[0;32m--> 856\u001b[0m     item \u001b[38;5;241m=\u001b[39m \u001b[38;5;28;43mself\u001b[39;49m\u001b[38;5;241;43m.\u001b[39;49m\u001b[43m_items\u001b[49m\u001b[38;5;241;43m.\u001b[39;49m\u001b[43mpopleft\u001b[49m\u001b[43m(\u001b[49m\u001b[43m)\u001b[49m\n",
      "\u001b[1;32m    857\u001b[0m \u001b[38;5;28;01mexcept\u001b[39;00m \u001b[38;5;167;01mIndexError\u001b[39;00m:\n",
      "\n",
      "\u001b[0;31mIndexError\u001b[0m: pop from an empty deque\n",
      "\n",
      "During handling of the above exception, another exception occurred:\n",
      "\n",
      "\u001b[0;31mKeyboardInterrupt\u001b[0m                         Traceback (most recent call last)\n",
      "Cell \u001b[0;32mIn[1], line 15\u001b[0m\n",
      "\u001b[1;32m     12\u001b[0m \u001b[38;5;28mprint\u001b[39m(\u001b[38;5;124m\"\u001b[39m\u001b[38;5;130;01m\\n\u001b[39;00m\u001b[38;5;124mProcessing...\u001b[39m\u001b[38;5;130;01m\\n\u001b[39;00m\u001b[38;5;124m\"\u001b[39m)\n",
      "\u001b[1;32m     14\u001b[0m results \u001b[38;5;241m=\u001b[39m []\n",
      "\u001b[0;32m---> 15\u001b[0m \u001b[38;5;28;43;01mfor\u001b[39;49;00m\u001b[43m \u001b[49m\u001b[43mresult\u001b[49m\u001b[43m \u001b[49m\u001b[38;5;129;43;01min\u001b[39;49;00m\u001b[43m \u001b[49m\u001b[43mpipeline\u001b[49m\u001b[38;5;241;43m.\u001b[39;49m\u001b[43mrun\u001b[49m\u001b[43m(\u001b[49m\u001b[43minputs\u001b[49m\u001b[43m,\u001b[49m\u001b[43m \u001b[49m\u001b[43mordered_result\u001b[49m\u001b[38;5;241;43m=\u001b[39;49m\u001b[38;5;28;43;01mTrue\u001b[39;49;00m\u001b[43m,\u001b[49m\u001b[43m \u001b[49m\u001b[43mshow_progress\u001b[49m\u001b[38;5;241;43m=\u001b[39;49m\u001b[38;5;28;43;01mTrue\u001b[39;49;00m\u001b[43m,\u001b[49m\u001b[43m \u001b[49m\u001b[43mshow_stage_progress\u001b[49m\u001b[38;5;241;43m=\u001b[39;49m\u001b[38;5;28;43;01mTrue\u001b[39;49;00m\u001b[43m)\u001b[49m\u001b[43m:\u001b[49m\n",
      "\u001b[1;32m     16\u001b[0m \u001b[43m    \u001b[49m\u001b[43mresults\u001b[49m\u001b[38;5;241;43m.\u001b[39;49m\u001b[43mappend\u001b[49m\u001b[43m(\u001b[49m\u001b[43mresult\u001b[49m\u001b[43m)\u001b[49m\n",
      "\u001b[1;32m     17\u001b[0m \u001b[43m    \u001b[49m\u001b[38;5;28;43mprint\u001b[39;49m\u001b[43m(\u001b[49m\u001b[38;5;124;43mf\u001b[39;49m\u001b[38;5;124;43m\"\u001b[39;49m\u001b[38;5;124;43mGot result: \u001b[39;49m\u001b[38;5;132;43;01m{\u001b[39;49;00m\u001b[43mresult\u001b[49m\u001b[38;5;132;43;01m}\u001b[39;49;00m\u001b[38;5;124;43m\"\u001b[39;49m\u001b[43m)\u001b[49m\n",
      "\n",
      "File \u001b[0;32m~/projects/pipeline/parallele_pipeline.py:269\u001b[0m, in \u001b[0;36mPipeline.run\u001b[0;34m(self, inputs, ordered_result, show_progress, show_stage_progress)\u001b[0m\n",
      "\u001b[1;32m    266\u001b[0m             \u001b[38;5;28;01myield\u001b[39;00m result\n",
      "\u001b[1;32m    267\u001b[0m     \u001b[38;5;28;01melse\u001b[39;00m:\n",
      "\u001b[1;32m    268\u001b[0m         \u001b[38;5;66;03m# Intermediate stage - prepare for next stage\u001b[39;00m\n",
      "\u001b[0;32m--> 269\u001b[0m         current_data \u001b[38;5;241m=\u001b[39m \u001b[38;5;28;43mlist\u001b[39;49m\u001b[43m(\u001b[49m\n",
      "\u001b[1;32m    270\u001b[0m \u001b[43m            \u001b[49m\u001b[43mmake_stage_iterator\u001b[49m\u001b[43m(\u001b[49m\u001b[43mresults_iter\u001b[49m\u001b[43m,\u001b[49m\u001b[43m \u001b[49m\u001b[43mstage_idx\u001b[49m\u001b[43m)\u001b[49m\u001b[43m)\u001b[49m\n",
      "\u001b[1;32m    272\u001b[0m \u001b[38;5;28;01mexcept\u001b[39;00m WorkerException \u001b[38;5;28;01mas\u001b[39;00m e:\n",
      "\u001b[1;32m    273\u001b[0m     \u001b[38;5;28mself\u001b[39m\u001b[38;5;241m.\u001b[39m_running \u001b[38;5;241m=\u001b[39m \u001b[38;5;28;01mFalse\u001b[39;00m\n",
      "\n",
      "File \u001b[0;32m~/projects/pipeline/parallele_pipeline.py:246\u001b[0m, in \u001b[0;36mPipeline.run.<locals>.make_stage_iterator\u001b[0;34m(iterator, stage_idx)\u001b[0m\n",
      "\u001b[1;32m    245\u001b[0m \u001b[38;5;28;01mdef\u001b[39;00m \u001b[38;5;21mmake_stage_iterator\u001b[39m(iterator, stage_idx):\n",
      "\u001b[0;32m--> 246\u001b[0m \u001b[43m    \u001b[49m\u001b[38;5;28;43;01mfor\u001b[39;49;00m\u001b[43m \u001b[49m\u001b[43mseq_num\u001b[49m\u001b[43m,\u001b[49m\u001b[43m \u001b[49m\u001b[43mdata\u001b[49m\u001b[43m \u001b[49m\u001b[38;5;129;43;01min\u001b[39;49;00m\u001b[43m \u001b[49m\u001b[43miterator\u001b[49m\u001b[43m:\u001b[49m\n",
      "\u001b[1;32m    247\u001b[0m \u001b[43m        \u001b[49m\u001b[38;5;28;43;01mif\u001b[39;49;00m\u001b[43m \u001b[49m\u001b[38;5;129;43;01mnot\u001b[39;49;00m\u001b[43m \u001b[49m\u001b[38;5;28;43mself\u001b[39;49m\u001b[38;5;241;43m.\u001b[39;49m\u001b[43m_running\u001b[49m\u001b[43m:\u001b[49m\n",
      "\u001b[1;32m    248\u001b[0m \u001b[43m            \u001b[49m\u001b[38;5;28;43;01mbreak\u001b[39;49;00m\n",
      "\n",
      "File \u001b[0;32m/usr/lib/python3.12/multiprocessing/pool.py:861\u001b[0m, in \u001b[0;36mIMapIterator.next\u001b[0;34m(self, timeout)\u001b[0m\n",
      "\u001b[1;32m    859\u001b[0m     \u001b[38;5;28mself\u001b[39m\u001b[38;5;241m.\u001b[39m_pool \u001b[38;5;241m=\u001b[39m \u001b[38;5;28;01mNone\u001b[39;00m\n",
      "\u001b[1;32m    860\u001b[0m     \u001b[38;5;28;01mraise\u001b[39;00m \u001b[38;5;167;01mStopIteration\u001b[39;00m \u001b[38;5;28;01mfrom\u001b[39;00m \u001b[38;5;28;01mNone\u001b[39;00m\n",
      "\u001b[0;32m--> 861\u001b[0m \u001b[38;5;28;43mself\u001b[39;49m\u001b[38;5;241;43m.\u001b[39;49m\u001b[43m_cond\u001b[49m\u001b[38;5;241;43m.\u001b[39;49m\u001b[43mwait\u001b[49m\u001b[43m(\u001b[49m\u001b[43mtimeout\u001b[49m\u001b[43m)\u001b[49m\n",
      "\u001b[1;32m    862\u001b[0m \u001b[38;5;28;01mtry\u001b[39;00m:\n",
      "\u001b[1;32m    863\u001b[0m     item \u001b[38;5;241m=\u001b[39m \u001b[38;5;28mself\u001b[39m\u001b[38;5;241m.\u001b[39m_items\u001b[38;5;241m.\u001b[39mpopleft()\n",
      "\n",
      "File \u001b[0;32m/usr/lib/python3.12/threading.py:355\u001b[0m, in \u001b[0;36mCondition.wait\u001b[0;34m(self, timeout)\u001b[0m\n",
      "\u001b[1;32m    353\u001b[0m \u001b[38;5;28;01mtry\u001b[39;00m:    \u001b[38;5;66;03m# restore state no matter what (e.g., KeyboardInterrupt)\u001b[39;00m\n",
      "\u001b[1;32m    354\u001b[0m     \u001b[38;5;28;01mif\u001b[39;00m timeout \u001b[38;5;129;01mis\u001b[39;00m \u001b[38;5;28;01mNone\u001b[39;00m:\n",
      "\u001b[0;32m--> 355\u001b[0m         \u001b[43mwaiter\u001b[49m\u001b[38;5;241;43m.\u001b[39;49m\u001b[43macquire\u001b[49m\u001b[43m(\u001b[49m\u001b[43m)\u001b[49m\n",
      "\u001b[1;32m    356\u001b[0m         gotit \u001b[38;5;241m=\u001b[39m \u001b[38;5;28;01mTrue\u001b[39;00m\n",
      "\u001b[1;32m    357\u001b[0m     \u001b[38;5;28;01melse\u001b[39;00m:\n",
      "\n",
      "\u001b[0;31mKeyboardInterrupt\u001b[0m: "
     ]
    }
   ],
   "source": [
    "\n",
    "from parallele_pipeline import Pipeline,  StageConfig, Worker, NumberSquarer, NumberMultiplier, AsyncNumberAdder\n",
    "\n",
    "print(\"Starting pipeline processing...\")\n",
    "# Create and run pipeline with constructor arguments\n",
    "pipeline = Pipeline(NumberSquarer, StageConfig(worker_count=10, use_threads=True))\\\n",
    "    .then(NumberMultiplier, StageConfig(worker_count=2, queue_size=1), worker_kwargs={'multiplier': 3})\\\n",
    "    .then(AsyncNumberAdder, StageConfig(worker_count=2))\n",
    "\n",
    "# Run pipeline with input range\n",
    "inputs = list(range(100))\n",
    "print(\"Input sequence: \", inputs)\n",
    "print(\"\\nProcessing...\\n\")\n",
    "\n",
    "results = []\n",
    "for result in pipeline.run(inputs, ordered_result=True, show_progress=True, show_stage_progress=True):\n",
    "    results.append(result)\n",
    "    print(f\"Got result: {result}\")\n",
    "\n",
    "print(\"\\nFinal results in order:\", results)\n",
    "print(\"Pipeline processing completed!\")\n"
   ]
  },
  {
   "cell_type": "code",
   "execution_count": null,
   "metadata": {},
   "outputs": [
    {
     "name": "stdout",
     "output_type": "stream",
     "text": [
      "Starting pipeline processing...\n",
      "Input sequence:  [0, 1, 2, 3, 4, 5, 6, 7, 8, 9, 10, 11, 12, 13, 14, 15, 16, 17, 18, 19, 20, 21, 22, 23, 24, 25, 26, 27, 28, 29, 30, 31, 32, 33, 34, 35, 36, 37, 38, 39, 40, 41, 42, 43, 44, 45, 46, 47, 48, 49, 50, 51, 52, 53, 54, 55, 56, 57, 58, 59, 60, 61, 62, 63, 64, 65, 66, 67, 68, 69, 70, 71, 72, 73, 74, 75, 76, 77, 78, 79, 80, 81, 82, 83, 84, 85, 86, 87, 88, 89, 90, 91, 92, 93, 94, 95, 96, 97, 98, 99]\n",
      "\n",
      "Processing...\n",
      "\n",
      "Initializing worker NumberSquarer in process MainProcess...\n",
      "Initializing worker NumberSquarer in process MainProcess...\n",
      "Initializing worker NumberSquarer in process MainProcess...\n",
      "Initializing worker NumberSquarer in process MainProcess...\n",
      "Initializing worker NumberSquarer in process MainProcess...\n",
      "Initializing worker NumberSquarer in process MainProcess...\n",
      "Initializing worker NumberSquarer in process MainProcess...\n",
      "Initializing worker NumberSquarer in process MainProcess...\n",
      "Initializing worker NumberSquarer in process MainProcess...\n",
      "Initializing worker NumberSquarer in process MainProcess...\n"
     ]
    },
    {
     "data": {
      "application/vnd.jupyter.widget-view+json": {
       "model_id": "d23217a9ccdd437fbc770627ea38f4c7",
       "version_major": 2,
       "version_minor": 0
      },
      "text/plain": [
       "Total Progress:   0%|          | 0/100 [00:00<?, ?it/s]"
      ]
     },
     "metadata": {},
     "output_type": "display_data"
    },
    {
     "data": {
      "application/vnd.jupyter.widget-view+json": {
       "model_id": "e9e1e5582f96416f891239fea63dfd17",
       "version_major": 2,
       "version_minor": 0
      },
      "text/plain": [
       "Stage 1 (NumberSquarer):   0%|          | 0/100 [00:00<?, ?it/s]"
      ]
     },
     "metadata": {},
     "output_type": "display_data"
    },
    {
     "data": {
      "application/vnd.jupyter.widget-view+json": {
       "model_id": "fbcd2eb6d5804b73b931a96ef56cbf0e",
       "version_major": 2,
       "version_minor": 0
      },
      "text/plain": [
       "Stage 2 (NumberMultiplier):   0%|          | 0/100 [00:00<?, ?it/s]"
      ]
     },
     "metadata": {},
     "output_type": "display_data"
    },
    {
     "data": {
      "application/vnd.jupyter.widget-view+json": {
       "model_id": "e0d938ac5a204e62853fcc1e190b2640",
       "version_major": 2,
       "version_minor": 0
      },
      "text/plain": [
       "Stage 3 (AsyncNumberAdder):   0%|          | 0/100 [00:00<?, ?it/s]"
      ]
     },
     "metadata": {},
     "output_type": "display_data"
    },
    {
     "name": "stdout",
     "output_type": "stream",
     "text": [
      "Initializing worker NumberMultiplier in process SpawnPoolWorker-1...\n",
      "Initializing worker AsyncNumberAdder in process SpawnPoolWorker-3...\n",
      "Initializing worker AsyncNumberAdder in process SpawnPoolWorker-4...\n",
      "Initializing worker NumberMultiplier in process SpawnPoolWorker-2...\n",
      "\n",
      "Pipeline interrupted by user. Cleaning up...\n"
     ]
    },
    {
     "ename": "KeyboardInterrupt",
     "evalue": "",
     "output_type": "error",
     "traceback": [
      "\u001b[0;31m---------------------------------------------------------------------------\u001b[0m\n",
      "\u001b[0;31mIndexError\u001b[0m                                Traceback (most recent call last)\n",
      "File \u001b[0;32m/usr/lib/python3.12/multiprocessing/pool.py:856\u001b[0m, in \u001b[0;36mIMapIterator.next\u001b[0;34m(self, timeout)\u001b[0m\n",
      "\u001b[1;32m    855\u001b[0m \u001b[38;5;28;01mtry\u001b[39;00m:\n",
      "\u001b[0;32m--> 856\u001b[0m     item \u001b[38;5;241m=\u001b[39m \u001b[38;5;28;43mself\u001b[39;49m\u001b[38;5;241;43m.\u001b[39;49m\u001b[43m_items\u001b[49m\u001b[38;5;241;43m.\u001b[39;49m\u001b[43mpopleft\u001b[49m\u001b[43m(\u001b[49m\u001b[43m)\u001b[49m\n",
      "\u001b[1;32m    857\u001b[0m \u001b[38;5;28;01mexcept\u001b[39;00m \u001b[38;5;167;01mIndexError\u001b[39;00m:\n",
      "\n",
      "\u001b[0;31mIndexError\u001b[0m: pop from an empty deque\n",
      "\n",
      "During handling of the above exception, another exception occurred:\n",
      "\n",
      "\u001b[0;31mKeyboardInterrupt\u001b[0m                         Traceback (most recent call last)\n",
      "Cell \u001b[0;32mIn[1], line 15\u001b[0m\n",
      "\u001b[1;32m     12\u001b[0m \u001b[38;5;28mprint\u001b[39m(\u001b[38;5;124m\"\u001b[39m\u001b[38;5;130;01m\\n\u001b[39;00m\u001b[38;5;124mProcessing...\u001b[39m\u001b[38;5;130;01m\\n\u001b[39;00m\u001b[38;5;124m\"\u001b[39m)\n",
      "\u001b[1;32m     14\u001b[0m results \u001b[38;5;241m=\u001b[39m []\n",
      "\u001b[0;32m---> 15\u001b[0m \u001b[38;5;28;43;01mfor\u001b[39;49;00m\u001b[43m \u001b[49m\u001b[43mresult\u001b[49m\u001b[43m \u001b[49m\u001b[38;5;129;43;01min\u001b[39;49;00m\u001b[43m \u001b[49m\u001b[43mpipeline\u001b[49m\u001b[38;5;241;43m.\u001b[39;49m\u001b[43mrun\u001b[49m\u001b[43m(\u001b[49m\u001b[43minputs\u001b[49m\u001b[43m,\u001b[49m\u001b[43m \u001b[49m\u001b[43mordered_result\u001b[49m\u001b[38;5;241;43m=\u001b[39;49m\u001b[38;5;28;43;01mTrue\u001b[39;49;00m\u001b[43m,\u001b[49m\u001b[43m \u001b[49m\u001b[43mshow_progress\u001b[49m\u001b[38;5;241;43m=\u001b[39;49m\u001b[38;5;28;43;01mTrue\u001b[39;49;00m\u001b[43m,\u001b[49m\u001b[43m \u001b[49m\u001b[43mshow_stage_progress\u001b[49m\u001b[38;5;241;43m=\u001b[39;49m\u001b[38;5;28;43;01mTrue\u001b[39;49;00m\u001b[43m)\u001b[49m\u001b[43m:\u001b[49m\n",
      "\u001b[1;32m     16\u001b[0m \u001b[43m    \u001b[49m\u001b[43mresults\u001b[49m\u001b[38;5;241;43m.\u001b[39;49m\u001b[43mappend\u001b[49m\u001b[43m(\u001b[49m\u001b[43mresult\u001b[49m\u001b[43m)\u001b[49m\n",
      "\u001b[1;32m     17\u001b[0m \u001b[43m    \u001b[49m\u001b[38;5;28;43mprint\u001b[39;49m\u001b[43m(\u001b[49m\u001b[38;5;124;43mf\u001b[39;49m\u001b[38;5;124;43m\"\u001b[39;49m\u001b[38;5;124;43mGot result: \u001b[39;49m\u001b[38;5;132;43;01m{\u001b[39;49;00m\u001b[43mresult\u001b[49m\u001b[38;5;132;43;01m}\u001b[39;49;00m\u001b[38;5;124;43m\"\u001b[39;49m\u001b[43m)\u001b[49m\n",
      "\n",
      "File \u001b[0;32m~/projects/pipeline/parallele_pipeline.py:269\u001b[0m, in \u001b[0;36mPipeline.run\u001b[0;34m(self, inputs, ordered_result, show_progress, show_stage_progress)\u001b[0m\n",
      "\u001b[1;32m    266\u001b[0m             \u001b[38;5;28;01myield\u001b[39;00m result\n",
      "\u001b[1;32m    267\u001b[0m     \u001b[38;5;28;01melse\u001b[39;00m:\n",
      "\u001b[1;32m    268\u001b[0m         \u001b[38;5;66;03m# Intermediate stage - prepare for next stage\u001b[39;00m\n",
      "\u001b[0;32m--> 269\u001b[0m         current_data \u001b[38;5;241m=\u001b[39m \u001b[38;5;28;43mlist\u001b[39;49m\u001b[43m(\u001b[49m\n",
      "\u001b[1;32m    270\u001b[0m \u001b[43m            \u001b[49m\u001b[43mmake_stage_iterator\u001b[49m\u001b[43m(\u001b[49m\u001b[43mresults_iter\u001b[49m\u001b[43m,\u001b[49m\u001b[43m \u001b[49m\u001b[43mstage_idx\u001b[49m\u001b[43m)\u001b[49m\u001b[43m)\u001b[49m\n",
      "\u001b[1;32m    272\u001b[0m \u001b[38;5;28;01mexcept\u001b[39;00m WorkerException \u001b[38;5;28;01mas\u001b[39;00m e:\n",
      "\u001b[1;32m    273\u001b[0m     \u001b[38;5;28mself\u001b[39m\u001b[38;5;241m.\u001b[39m_running \u001b[38;5;241m=\u001b[39m \u001b[38;5;28;01mFalse\u001b[39;00m\n",
      "\n",
      "File \u001b[0;32m~/projects/pipeline/parallele_pipeline.py:246\u001b[0m, in \u001b[0;36mPipeline.run.<locals>.make_stage_iterator\u001b[0;34m(iterator, stage_idx)\u001b[0m\n",
      "\u001b[1;32m    245\u001b[0m \u001b[38;5;28;01mdef\u001b[39;00m \u001b[38;5;21mmake_stage_iterator\u001b[39m(iterator, stage_idx):\n",
      "\u001b[0;32m--> 246\u001b[0m \u001b[43m    \u001b[49m\u001b[38;5;28;43;01mfor\u001b[39;49;00m\u001b[43m \u001b[49m\u001b[43mseq_num\u001b[49m\u001b[43m,\u001b[49m\u001b[43m \u001b[49m\u001b[43mdata\u001b[49m\u001b[43m \u001b[49m\u001b[38;5;129;43;01min\u001b[39;49;00m\u001b[43m \u001b[49m\u001b[43miterator\u001b[49m\u001b[43m:\u001b[49m\n",
      "\u001b[1;32m    247\u001b[0m \u001b[43m        \u001b[49m\u001b[38;5;28;43;01mif\u001b[39;49;00m\u001b[43m \u001b[49m\u001b[38;5;129;43;01mnot\u001b[39;49;00m\u001b[43m \u001b[49m\u001b[38;5;28;43mself\u001b[39;49m\u001b[38;5;241;43m.\u001b[39;49m\u001b[43m_running\u001b[49m\u001b[43m:\u001b[49m\n",
      "\u001b[1;32m    248\u001b[0m \u001b[43m            \u001b[49m\u001b[38;5;28;43;01mbreak\u001b[39;49;00m\n",
      "\n",
      "File \u001b[0;32m/usr/lib/python3.12/multiprocessing/pool.py:861\u001b[0m, in \u001b[0;36mIMapIterator.next\u001b[0;34m(self, timeout)\u001b[0m\n",
      "\u001b[1;32m    859\u001b[0m     \u001b[38;5;28mself\u001b[39m\u001b[38;5;241m.\u001b[39m_pool \u001b[38;5;241m=\u001b[39m \u001b[38;5;28;01mNone\u001b[39;00m\n",
      "\u001b[1;32m    860\u001b[0m     \u001b[38;5;28;01mraise\u001b[39;00m \u001b[38;5;167;01mStopIteration\u001b[39;00m \u001b[38;5;28;01mfrom\u001b[39;00m \u001b[38;5;28;01mNone\u001b[39;00m\n",
      "\u001b[0;32m--> 861\u001b[0m \u001b[38;5;28;43mself\u001b[39;49m\u001b[38;5;241;43m.\u001b[39;49m\u001b[43m_cond\u001b[49m\u001b[38;5;241;43m.\u001b[39;49m\u001b[43mwait\u001b[49m\u001b[43m(\u001b[49m\u001b[43mtimeout\u001b[49m\u001b[43m)\u001b[49m\n",
      "\u001b[1;32m    862\u001b[0m \u001b[38;5;28;01mtry\u001b[39;00m:\n",
      "\u001b[1;32m    863\u001b[0m     item \u001b[38;5;241m=\u001b[39m \u001b[38;5;28mself\u001b[39m\u001b[38;5;241m.\u001b[39m_items\u001b[38;5;241m.\u001b[39mpopleft()\n",
      "\n",
      "File \u001b[0;32m/usr/lib/python3.12/threading.py:355\u001b[0m, in \u001b[0;36mCondition.wait\u001b[0;34m(self, timeout)\u001b[0m\n",
      "\u001b[1;32m    353\u001b[0m \u001b[38;5;28;01mtry\u001b[39;00m:    \u001b[38;5;66;03m# restore state no matter what (e.g., KeyboardInterrupt)\u001b[39;00m\n",
      "\u001b[1;32m    354\u001b[0m     \u001b[38;5;28;01mif\u001b[39;00m timeout \u001b[38;5;129;01mis\u001b[39;00m \u001b[38;5;28;01mNone\u001b[39;00m:\n",
      "\u001b[0;32m--> 355\u001b[0m         \u001b[43mwaiter\u001b[49m\u001b[38;5;241;43m.\u001b[39;49m\u001b[43macquire\u001b[49m\u001b[43m(\u001b[49m\u001b[43m)\u001b[49m\n",
      "\u001b[1;32m    356\u001b[0m         gotit \u001b[38;5;241m=\u001b[39m \u001b[38;5;28;01mTrue\u001b[39;00m\n",
      "\u001b[1;32m    357\u001b[0m     \u001b[38;5;28;01melse\u001b[39;00m:\n",
      "\n",
      "\u001b[0;31mKeyboardInterrupt\u001b[0m: "
     ]
    }
   ],
   "source": [
    "\n",
    "from parallele_pipeline import Pipeline,  StageConfig, Worker, NumberSquarer, NumberMultiplier, AsyncNumberAdder\n",
    "\n",
    "print(\"Starting pipeline processing...\")\n",
    "# Create and run pipeline with constructor arguments\n",
    "pipeline = Pipeline(NumberSquarer, StageConfig(worker_count=10, use_threads=True))\\\n",
    "    .then(NumberMultiplier, StageConfig(worker_count=2, queue_size=1), worker_kwargs={'multiplier': 3})\\\n",
    "    .then(AsyncNumberAdder, StageConfig(worker_count=2))\n",
    "\n",
    "# Run pipeline with input range\n",
    "inputs = list(range(100))\n",
    "print(\"Input sequence: \", inputs)\n",
    "print(\"\\nProcessing...\\n\")\n",
    "\n",
    "results = []\n",
    "for result in pipeline.run(inputs, ordered_result=True, show_progress=True, show_stage_progress=True):\n",
    "    results.append(result)\n",
    "    print(f\"Got result: {result}\")\n",
    "\n",
    "print(\"\\nFinal results in order:\", results)\n",
    "print(\"Pipeline processing completed!\")\n"
   ]
  }
 ],
 "metadata": {
  "kernelspec": {
   "display_name": ".venv",
   "language": "python",
   "name": "python3"
  },
  "language_info": {
   "codemirror_mode": {
    "name": "ipython",
    "version": 3
   },
   "file_extension": ".py",
   "mimetype": "text/x-python",
   "name": "python",
   "nbconvert_exporter": "python",
   "pygments_lexer": "ipython3",
   "version": "3.12.3"
  }
 },
 "nbformat": 4,
 "nbformat_minor": 2
}
